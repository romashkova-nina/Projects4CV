{
  "cells": [
    {
      "cell_type": "markdown",
      "metadata": {
        "id": "5ktPX0pCqSRN"
      },
      "source": [
        "#Продвинутый Python, ДЗ-2\n",
        "\n",
        "Правила игры:\n",
        "\n",
        "В домашке 8 задач, разбаловка указана в задании. Суммарно за дз можно получить 100 баллов, что равняется 10 баллам\n",
        "\n",
        "В каждой задаче необходимо реализовать функцию, которая после будет проверяться через github classroom на тестах. Сами тесты лежит в гитхабе, можете локально проверить работу функций перед сдачей\n",
        "\n",
        "Дедлайн - 7 дней после выдачи дз. Необходимо залить решеннный ноутбук в github и прислать ссылку в Anytask (без выполнения любого из пунктов работа проверяться не будет)\n",
        "\n",
        "В данной домашке нужно использовать pandas"
      ]
    },
    {
      "cell_type": "code",
      "execution_count": 1,
      "metadata": {
        "id": "Rlek5byfvxPo"
      },
      "outputs": [],
      "source": [
        "# https://stackoverflow.com/a/60658965/7286121\n",
        "\n",
        "from IPython.core.magic import register_cell_magic\n",
        "\n",
        "@register_cell_magic\n",
        "def write_and_run(line, cell):\n",
        "    argz = line.split()\n",
        "    file = argz[-1]\n",
        "    mode = 'w'\n",
        "    if len(argz) == 2 and argz[0] == '-a':\n",
        "        mode = 'a'\n",
        "    with open(file, mode) as f:\n",
        "        f.write(cell)\n",
        "    get_ipython().run_cell(cell)"
      ]
    },
    {
      "cell_type": "markdown",
      "metadata": {
        "id": "63di75_vqbTp"
      },
      "source": [
        "## Данные"
      ]
    },
    {
      "cell_type": "markdown",
      "metadata": {
        "id": "krcmq1NUqeCS"
      },
      "source": [
        "В этом домашнем задании вам придется оказаться на месте аналитика в бразильском маркетплейсе [Olist](https://olist.com/pt-br/). Вам необходимо исследовать данные и на их основании сделать выводы, которые помогут бизнесу расцветать!\n",
        "\n",
        "Данные находятся тут в файле archive.zip"
      ]
    },
    {
      "cell_type": "code",
      "execution_count": 2,
      "metadata": {
        "id": "5U4xc4-9b9XR"
      },
      "outputs": [],
      "source": [
        "#!pip install wget\n",
        "#перед сдачей это закомментить\n",
        "#Comment"
      ]
    },
    {
      "cell_type": "code",
      "execution_count": 3,
      "metadata": {
        "id": "ItTnixKIrtHQ"
      },
      "outputs": [],
      "source": [
        "# Код, который будет в каждом тесте, названия не менять\n",
        "import pandas as pd\n",
        "import numpy as np\n",
        "import zipfile\n",
        "import wget\n",
        "\n",
        "url = 'https://github.com/Palladain/Deep_Python/raw/main/Homeworks/Homework_1/archive.zip'\n",
        "filename = wget.download(url)\n",
        "\n",
        "with zipfile.ZipFile(filename, 'r') as zip_ref:\n",
        "    zip_ref.extractall('./')\n",
        "\n",
        "customers = pd.read_csv('olist_customers_dataset.csv')\n",
        "location = pd.read_csv('olist_geolocation_dataset.csv')\n",
        "items = pd.read_csv('olist_order_items_dataset.csv')\n",
        "payments = pd.read_csv('olist_order_payments_dataset.csv')\n",
        "reviews = pd.read_csv('olist_order_reviews_dataset.csv')\n",
        "orders = pd.read_csv('olist_orders_dataset.csv')\n",
        "products = pd.read_csv('olist_products_dataset.csv')\n",
        "translation = pd.read_csv('product_category_name_translation.csv')\n",
        "sellers = pd.read_csv('olist_sellers_dataset.csv')"
      ]
    },
    {
      "cell_type": "markdown",
      "metadata": {
        "id": "LLos28bYrbR2"
      },
      "source": [
        "Ван дано 9 датасетов, которые содержат в себе все данные по 100 000 заказам со всей Бразилии. Чтобы облегчить вам жизнь, вот связи по этим датасетам (файл product_category_name_translation является переводом названий категорий с португальского на английский)"
      ]
    },
    {
      "cell_type": "markdown",
      "metadata": {
        "id": "lXXie4hQrdhI"
      },
      "source": [
        "![](https://i.imgur.com/HRhd2Y0.png)"
      ]
    },
    {
      "cell_type": "markdown",
      "metadata": {
        "id": "4pUMuhE1rWhb"
      },
      "source": [
        "Ну что же, начнем!"
      ]
    },
    {
      "cell_type": "markdown",
      "metadata": {
        "id": "VnjVNWlFrVKG"
      },
      "source": [
        "## Задание 1 (10 баллов)"
      ]
    },
    {
      "cell_type": "markdown",
      "metadata": {
        "id": "2Qt0BXIIvXOx"
      },
      "source": [
        "Определите:\n",
        "\n",
        "* Число товаров\n",
        "\n",
        "* Среднюю стоимость товара (стоимость товара = среднее от цен в датасете items)\n",
        "\n",
        "в разрезе категорий (все категории должны быть на английском языке)\n",
        "\n",
        "Табличка, которая у вас должна получиться:\n",
        "\n",
        "```\n",
        "category | products | price\n",
        "\n",
        "value    | value      | value\n",
        "```\n",
        "\n",
        "**Обратите внимание:**\n",
        "\n",
        "Для категории portateis_cozinha_e_preparadores_de_alimentos перевод portable kitchen and food preparers\n",
        "\n",
        "Для категории pc_gamer перевод PC Gamer\n",
        "\n",
        "Для них нужно отдельно добавить перевод"
      ]
    },
    {
      "cell_type": "code",
      "execution_count": 4,
      "metadata": {
        "id": "PWVaTwBFrkFj"
      },
      "outputs": [],
      "source": [
        "%%write_and_run task_1.py\n",
        "\n",
        "# важно! все зависимости, которые используете (если добавляее новые) в этом классе надо явно продублировать в эту ячейку\n",
        "import numpy as np\n",
        "import pandas as pd\n",
        "\n",
        "def task_1(translation, items, products):\n",
        "    res = pd.merge(products, items, how='left', on=\"product_id\")\n",
        "    res = pd.merge(res, translation, how='left', on=\"product_category_name\")\n",
        "    res[\"product_category_name_english\"]=np.where(res[\"product_category_name\"]==\"portateis_cozinha_e_preparadores_de_alimentos\", \"portable kitchen and food preparers\", res.product_category_name_english)\n",
        "    res[\"product_category_name_english\"]=np.where(res[\"product_category_name\"]==\"pc_gamer\", \"PC Gamer\", res.product_category_name_english)\n",
        "\n",
        "    res=res.groupby([\"product_id\", \"product_category_name_english\"]).agg({\"price\": \"mean\"}).reset_index()\n",
        "\n",
        "    res=res.groupby([\"product_category_name_english\"]).agg({\"product_id\":\"count\", \"price\": \"mean\"}).reset_index()\n",
        "    res=res.rename(columns={\"product_category_name_english\": \"category\", \"product_id\": \"products\"})\n",
        "    \n",
        "    return res"
      ]
    },
    {
      "cell_type": "code",
      "execution_count": 5,
      "metadata": {
        "id": "VgSA5JAjxngq"
      },
      "outputs": [],
      "source": [
        "#Проверки\n",
        "\n",
        "res = task_1(translation, items, products)\n",
        "\n",
        "assert res[res.category == 'portable kitchen and food preparers'].price.values[0] == 186.996\n",
        "assert len(res) == 73\n",
        "assert len(res.drop_duplicates()) == 73\n",
        "assert res[res.category == 'drinks'].products.values[0] == 81\n",
        "assert res.products.sum() == 32341\n",
        "assert res.price.sum() == 12459.751444351941\n",
        "assert res[res.category == 'home_confort'].price.values[0] == 185.56926417326417"
      ]
    },
    {
      "cell_type": "markdown",
      "metadata": {
        "id": "yUh0q89ztKMV"
      },
      "source": [
        "## Задание 2 (10 баллов)"
      ]
    },
    {
      "cell_type": "markdown",
      "metadata": {
        "id": "3PM7DzaRzO9x"
      },
      "source": [
        "Определите для каждого продавца основную категорию их продаж (категории должны быть на английском языке)\n",
        "\n",
        "Табличка, которая у вас должна получиться:\n",
        "\n",
        "```\n",
        "seller_id | category\n",
        "\n",
        "value    | value\n",
        "```\n",
        "\n",
        "\n"
      ]
    },
    {
      "cell_type": "code",
      "execution_count": 6,
      "metadata": {
        "id": "YCKMxSNtzdxO"
      },
      "outputs": [],
      "source": [
        "%%write_and_run task_2.py\n",
        "\n",
        "# важно! все зависимости, которые используете (если добавляее новые) в этом классе надо явно продублировать в эту ячейку\n",
        "import numpy as np\n",
        "import pandas as pd\n",
        "\n",
        "def task_2(translation, products, items):\n",
        "    res = pd.merge(items, products, how='left', on=\"product_id\")\n",
        "    res = pd.merge(res, translation, how='outer', on=\"product_category_name\")\n",
        "\n",
        "    res[\"product_category_name_english\"]=np.where(res[\"product_category_name\"]==\"portateis_cozinha_e_preparadores_de_alimentos\", \"portable kitchen and food preparers\", res.product_category_name_english)\n",
        "    res[\"product_category_name_english\"]=np.where(res[\"product_category_name\"]==\"pc_gamer\", \"PC Gamer\", res.product_category_name_english)\n",
        "\n",
        "    res=res.groupby([\"seller_id\", \"product_category_name_english\"]).agg({\"order_id\":\"count\"}).reset_index().sort_values(by=[\"order_id\"], ascending=False)\n",
        "    res=res.drop_duplicates(subset=[\"seller_id\"], keep=\"first\").reset_index()\n",
        "\n",
        "    res=res[[\"seller_id\", \"product_category_name_english\"]]\n",
        "    res=res.rename(columns={\"product_category_name_english\": \"category\"})\n",
        "    return res"
      ]
    },
    {
      "cell_type": "code",
      "execution_count": 7,
      "metadata": {
        "id": "jfx4Lfn10Tic"
      },
      "outputs": [],
      "source": [
        "# Проверки\n",
        "\n",
        "res = task_2(translation, products, items)\n",
        "assert res[res.seller_id == 'e3e15e2c0b9700561efac21c6be48066'].category.values[0] == 'housewares'\n",
        "assert res[res.seller_id == '2f73e04d12cdf0c945ded66bb3fcf6c7'].category.values[0] == 'garden_tools'\n",
        "assert len(res) == len(res.drop_duplicates())\n",
        "assert len(res) == 3035\n",
        "assert len(res[res.category == 'telephony']) == 66\n",
        "assert list(np.sort(res.groupby(\"category\").agg({\"seller_id\": \"nunique\"}).seller_id.values)) == [  1,   1,   1,   1,   1,   2,   2,   2,   2,   2,   3,   3,   4,\n",
        "         4,   4,   4,   5,   5,   5,   5,   5,   5,   6,   6,   6,   7,\n",
        "         8,  10,  12,  13,  13,  13,  14,  14,  14,  15,  16,  17,  17,\n",
        "        17,  19,  20,  20,  20,  21,  22,  26,  37,  37,  43,  46,  51,\n",
        "        54,  59,  66,  66,  78,  87,  87,  99, 101, 116, 125, 156, 216,\n",
        "       224, 256, 288, 310]"
      ]
    },
    {
      "cell_type": "markdown",
      "metadata": {
        "id": "DQemvudwt4mt"
      },
      "source": [
        "## Задание 3 (10 баллов)"
      ]
    },
    {
      "cell_type": "markdown",
      "metadata": {
        "id": "X6wytIx56ivp"
      },
      "source": [
        "Выведите долю потраченных денег по каждому штату (потраченные деньги - сумма денег по доставленным заказам, сумма по price и freight_value)\n",
        "\n",
        "*Примечание:* разбивка по штатам - по штату покупателя, процент - число от 0 до 1\n",
        "\n",
        "\n",
        "Табличка, которая у вас должна получиться:\n",
        "\n",
        "```\n",
        "state | perc\n",
        "\n",
        "value | value\n",
        "```"
      ]
    },
    {
      "cell_type": "code",
      "execution_count": 8,
      "metadata": {
        "id": "WH5QCAJi3sWk"
      },
      "outputs": [],
      "source": [
        "%%write_and_run task_3.py\n",
        "\n",
        "# важно! все зависимости, которые используете (если добавляее новые) в этом классе надо явно продублировать в эту ячейку\n",
        "import numpy as np\n",
        "import pandas as pd\n",
        "\n",
        "def task_3(orders, customers, items):\n",
        "    deliv_orders=orders[orders[\"order_status\"]==\"delivered\"]\n",
        "    res = pd.merge(deliv_orders, items, how='inner', on=\"order_id\")\n",
        "    res = pd.merge(res, customers, how='inner', on=\"customer_id\")\n",
        "\n",
        "    res['total_sum'] = res[[\"price\", \"freight_value\"]].sum(axis=1)\n",
        "\n",
        "    res=res[[\"customer_id\", \"customer_state\", \"total_sum\"]]\n",
        "    res=res.groupby([\"customer_state\"]).agg({\"total_sum\":\"sum\"}).reset_index()\n",
        "    overall_sum=res.total_sum.sum()\n",
        "    res[\"total_sum\"]=res[\"total_sum\"].div(overall_sum)\n",
        "    res=res.rename(columns={\"customer_state\":\"state\", \"total_sum\":\"perc\"})\n",
        "\n",
        "    return res"
      ]
    },
    {
      "cell_type": "code",
      "execution_count": 9,
      "metadata": {
        "id": "gE01dmRp5YlV"
      },
      "outputs": [],
      "source": [
        "# Проверки\n",
        "\n",
        "res = task_3(orders, customers, items)\n",
        "assert res.perc.sum() == 1\n",
        "assert res[res.state == \"RS\"].perc.values[0] == 0.055868056429816286\n",
        "assert res.sort_values(\"perc\", ascending=True).iloc[0, 1] == 0.0005862290943146945\n",
        "assert res.sort_values(\"perc\", ascending=False).iloc[0, 1] == 0.3741756035817322\n",
        "assert len(res) == 27"
      ]
    },
    {
      "cell_type": "markdown",
      "metadata": {
        "id": "2Z5KBkyet7wB"
      },
      "source": [
        "## Задание 4 (10 баллов)"
      ]
    },
    {
      "cell_type": "markdown",
      "metadata": {
        "id": "9klcqoBj80DL"
      },
      "source": [
        "Определите средний чек покупки (добавьте разбивку на стоимость самого заказ и стоимость доставки) и среднее число товаров в заказе\n",
        "\n",
        "А также определите среднее число покупок на пользователя (обратите внимание на идентификаторы)"
      ]
    },
    {
      "cell_type": "code",
      "execution_count": 10,
      "metadata": {
        "id": "lMqosgB-7OeQ"
      },
      "outputs": [],
      "source": [
        "%%write_and_run task_4.py\n",
        "\n",
        "# важно! все зависимости, которые используете (если добавляее новые) в этом классе надо явно продублировать в эту ячейку\n",
        "import numpy as np\n",
        "import pandas as pd\n",
        "\n",
        "def task_4(items, orders, customers):\n",
        "    mean_price=items.groupby([\"order_id\"]).agg({\"price\":\"sum\"}).reset_index()[\"price\"].mean()\n",
        "    mean_freight=items.groupby([\"order_id\"]).agg({\"freight_value\":\"sum\"}).reset_index()[\"freight_value\"].mean()\n",
        "\n",
        "    new_items=items.copy(deep=True)[[\"order_id\", \"order_item_id\"]]\n",
        "    new_items[\"cnt\"]=1\n",
        "    mean_quant=new_items.groupby([\"order_id\"]).agg({'cnt':\"count\"})['cnt'].mean()\n",
        "\n",
        "    new_orders=pd.merge(orders, customers, how=\"inner\", on=\"customer_id\")\n",
        "    mean_orders=new_orders.groupby([\"customer_unique_id\"]).agg({\"order_id\":\"count\"}).reset_index()[\"order_id\"].mean()\n",
        "\n",
        "    return (mean_price, mean_freight, mean_quant, mean_orders)"
      ]
    },
    {
      "cell_type": "code",
      "execution_count": 11,
      "metadata": {
        "id": "ManEB8qf7lm_"
      },
      "outputs": [],
      "source": [
        "# Проверка\n",
        "\n",
        "res = task_4(items, orders, customers)\n",
        "assert res == (137.7540763788945, 22.823561713254815, 1.1417306873695092, 1.0348089410589412)"
      ]
    },
    {
      "cell_type": "markdown",
      "metadata": {
        "id": "pEHsUeuYuPsK"
      },
      "source": [
        "## Задание 5 (10 баллов)"
      ]
    },
    {
      "cell_type": "markdown",
      "metadata": {
        "id": "cGX_GxAs9Fww"
      },
      "source": [
        "Посчитайте CSAT (customer satisfaction - средняя оценка ревью) и отобразите средний CSAT по дням в период с апреля 2017 по апрель 2018 года\n",
        "\n",
        "Все манипуляции с датой необходимо сделать с помощью datetime и dateutil\n",
        "\n",
        "\n",
        "Табличка, которая у вас должна получиться:\n",
        "\n",
        "```\n",
        "date | csat\n",
        "\n",
        "\"YYYY-MM-DD\" | value\n",
        "```"
      ]
    },
    {
      "cell_type": "code",
      "execution_count": 12,
      "metadata": {
        "id": "Fu31Qrod9M_4"
      },
      "outputs": [],
      "source": [
        "%%write_and_run task_5.py\n",
        "\n",
        "# важно! все зависимости, которые используете (если добавляее новые) в этом классе надо явно продублировать в эту ячейку\n",
        "import numpy as np\n",
        "import pandas as pd\n",
        "from dateutil.parser import parse\n",
        "import datetime\n",
        "\n",
        "def task_5(reviews):\n",
        "    res=reviews.copy(deep=True)[[\"review_score\", \"review_creation_date\"]]\n",
        "    res[\"review_creation_date\"]=res[\"review_creation_date\"].apply(lambda x: parse(x))\n",
        "    res[\"review_creation_date\"]=res[\"review_creation_date\"].apply(lambda x: datetime.date(x.year, x.month, x.day))\n",
        "    beg=parse(\"2017-04-01\")\n",
        "    end=parse(\"2018-04-30\")\n",
        "    res=res[(datetime.date(beg.year, beg.month, beg.day)<=res[\"review_creation_date\"])&(res[\"review_creation_date\"]<=datetime.date(end.year, end.month, end.day))].reset_index()\n",
        "\n",
        "    res=res.groupby([\"review_creation_date\"]).agg({'review_score':\"mean\"}).reset_index()\n",
        "    res[\"review_creation_date\"]=res[\"review_creation_date\"].apply(lambda x: x.strftime(\"%Y-%m-%d\"))\n",
        "\n",
        "    res=res.rename(columns={\"review_creation_date\":\"date\", \"review_score\":\"csat\"})\n",
        "\n",
        "    return res"
      ]
    },
    {
      "cell_type": "code",
      "execution_count": 13,
      "metadata": {
        "id": "UK4r71Vh-Pfu"
      },
      "outputs": [],
      "source": [
        "# Проверки\n",
        "res = task_5(reviews)\n",
        "assert res.date.min() == '2017-04-01'\n",
        "assert res.date.max() == '2018-04-30'\n",
        "assert res.csat.sum() == 1551.8881071384853\n",
        "assert res[res.date == '2017-07-11'].csat.values[0] == 4.291390728476821\n",
        "assert res[res.date == '2018-02-09'].csat.values[0] == 3.992156862745098\n",
        "assert res[res.csat == 3.6814814814814816].date.values[0] == '2018-02-25'"
      ]
    },
    {
      "cell_type": "markdown",
      "metadata": {
        "id": "L-rho7C0uUTY"
      },
      "source": [
        "## Задание 6 (10 баллов)"
      ]
    },
    {
      "cell_type": "markdown",
      "metadata": {
        "id": "3H-lma4hL-sa"
      },
      "source": [
        "Посмотрите, как быстро отвечают пользователи (сделайте аггреграцию по числу дней ответа) и какая средняя оценка\n",
        "\n",
        "Все манипуляции со временем нужно делать через datetime и dateutil\n",
        "\n",
        "Табличка, которая у вас должна получиться:\n",
        "\n",
        "```\n",
        "days | csat | orders\n",
        "\n",
        "value | value | value\n",
        "```\n",
        "\n",
        "Результаты должны быть отсориртированы по дня по возрастанию"
      ]
    },
    {
      "cell_type": "code",
      "execution_count": 14,
      "metadata": {
        "id": "BCjO8WQgMeGC"
      },
      "outputs": [],
      "source": [
        "%%write_and_run task_6.py\n",
        "\n",
        "# важно! все зависимости, которые используете (если добавляее новые) в этом классе надо явно продублировать в эту ячейку\n",
        "import numpy as np\n",
        "import pandas as pd\n",
        "from dateutil.parser import parse\n",
        "import datetime\n",
        "\n",
        "def task_6(reviews):\n",
        "    res=reviews.copy(deep=True)[[\"review_score\", \"order_id\", \"review_creation_date\", \"review_answer_timestamp\"]]\n",
        "    res['review_answer_timestamp']=res[\"review_answer_timestamp\"].apply(lambda x: parse(x))\n",
        "    res['review_creation_date']=res[\"review_creation_date\"].apply(lambda x: parse(x))\n",
        "    res[\"days\"]=res[\"review_answer_timestamp\"]-res[\"review_creation_date\"]\n",
        "    res['days']=res[\"days\"].apply(lambda x: x.days)\n",
        "    res=res.groupby([\"days\"]).agg({'review_score':\"mean\", \"order_id\":\"count\"}).reset_index()\n",
        "    res=res.rename(columns={\"review_score\":\"csat\", \"order_id\":\"orders\"})\n",
        "\n",
        "    return res"
      ]
    },
    {
      "cell_type": "code",
      "execution_count": 15,
      "metadata": {
        "id": "b_zq1nfxOvZa"
      },
      "outputs": [],
      "source": [
        "# Проверки\n",
        "res = task_6(reviews)\n",
        "assert res.orders.sum() == 99224\n",
        "assert np.all(res.days.values == np.sort(res.days.values))\n",
        "assert len(res) == 214\n",
        "assert res.days.min() == 0\n",
        "assert res.days.max() == 518\n",
        "assert res[res.days == 233].csat.values[0] == 3.0\n",
        "assert res[res.days == 87].orders.values[0] == 4"
      ]
    },
    {
      "cell_type": "markdown",
      "metadata": {
        "id": "bc-MZgP2udIi"
      },
      "source": [
        "## Задание 7 (10 баллов)"
      ]
    },
    {
      "cell_type": "markdown",
      "metadata": {
        "id": "JxkpI1l0QO0i"
      },
      "source": [
        "Выделите все заказы, где не проставлено поле order_delivered_customer_date. Замените его на дату '2999-12-31'"
      ]
    },
    {
      "cell_type": "code",
      "execution_count": 16,
      "metadata": {
        "id": "oqIpnXvbP3FZ"
      },
      "outputs": [],
      "source": [
        "%%write_and_run task_7.py\n",
        "\n",
        "# важно! все зависимости, которые используете (если добавляее новые) в этом классе надо явно продублировать в эту ячейку\n",
        "import numpy as np\n",
        "import pandas as pd\n",
        "\n",
        "def task_7(orders):\n",
        "    res=orders.copy(deep=True)\n",
        "    res[\"order_delivered_customer_date\"]=res[\"order_delivered_customer_date\"].fillna('2999-12-31')\n",
        "    return res"
      ]
    },
    {
      "cell_type": "code",
      "execution_count": 17,
      "metadata": {
        "id": "k6z59EMXWLkm"
      },
      "outputs": [],
      "source": [
        "#Проверки\n",
        "\n",
        "res = task_7(orders)\n",
        "assert len(res[res.order_delivered_customer_date.isna()]) == 0\n",
        "assert len(res) == 99441\n",
        "assert len(res[res.order_delivered_customer_date == '2999-12-31']) == 2965"
      ]
    },
    {
      "cell_type": "markdown",
      "metadata": {
        "id": "TVbTTB9nuiHH"
      },
      "source": [
        "## Задание 8 (30 баллов)"
      ]
    },
    {
      "cell_type": "markdown",
      "metadata": {
        "id": "zeRxv6FDVeVJ"
      },
      "source": [
        "Определите топ-10 продавцов, у которых больше 100 заказов, отсылающие чаще всего свою посылку в другие регионы (считаются только доставленные заказы)\n",
        "\n",
        "Чаще всего отсылают = самый большой процент отправленных заказов в другой штат\n",
        "\n",
        "Табличка, которая у вас должна получиться:\n",
        "\n",
        "```\n",
        "seller_id | share\n",
        "\n",
        "value | value\n",
        "```"
      ]
    },
    {
      "cell_type": "code",
      "execution_count": 18,
      "metadata": {
        "id": "Nv1eFCg5WnlD"
      },
      "outputs": [],
      "source": [
        "%%write_and_run task_8.py\n",
        "\n",
        "# важно! все зависимости, которые используете (если добавляее новые) в этом классе надо явно продублировать в эту ячейку\n",
        "import numpy as np\n",
        "import pandas as pd\n",
        "\n",
        "def task_8(orders, items, sellers, customers):\n",
        "    new_orders=orders[orders[\"order_status\"]==\"delivered\"]\n",
        "    res = pd.merge(new_orders, items, how='left', on=\"order_id\")\n",
        "    res = pd.merge(res, customers, how='left', on=\"customer_id\")\n",
        "    res = pd.merge(res, sellers, how='left', on=\"seller_id\")\n",
        "    res=res[[\"order_id\", \"order_item_id\", \"seller_id\", \"product_id\", \"seller_state\", \"customer_state\"]]\n",
        "    res=res.drop_duplicates(subset=[\"order_id\", \"seller_id\"])\n",
        "\n",
        "    new=res.groupby([\"order_id\", \"product_id\"]).agg({\"seller_state\":\"count\"}).reset_index()\n",
        "    res[\"all_orders\"]=1\n",
        "    res[\"foreign_orders\"]=(res[\"seller_state\"]!=res[\"customer_state\"])\n",
        "    res[\"foreign_orders\"]=res[\"foreign_orders\"].apply(lambda x: int(x))\n",
        "\n",
        "    res=res.groupby([\"seller_id\"]).agg({\"all_orders\":\"sum\", \"foreign_orders\":\"sum\"}).reset_index()\n",
        "    res=res[res[\"all_orders\"]>100]\n",
        "    res[\"share\"]=res[\"foreign_orders\"]/res[\"all_orders\"]\n",
        "    res=res.sort_values([\"share\"], ascending=False)\n",
        "    res=res.iloc[:10].reset_index()\n",
        "    res=res[[\"seller_id\", \"share\"]]\n",
        "\n",
        "    return res"
      ]
    },
    {
      "cell_type": "code",
      "execution_count": 19,
      "metadata": {
        "id": "1bC_uAYIbRrn"
      },
      "outputs": [],
      "source": [
        "# Проверки\n",
        "\n",
        "res = task_8(orders, items, sellers, customers)\n",
        "assert np.all(res.share.values == np.sort(res.share.values)[::-1])\n",
        "assert res.share.values[0] == 0.9743589743589743\n",
        "assert res.share.values[-1] == 0.9356435643564357\n",
        "assert res.seller_id.values[5] == '1b4c3a6f53068f0b6944d2d005c9fc89'\n",
        "assert res.seller_id.values[2] == '06a2c3af7b3aee5d69171b0e14f0ee87'\n",
        "assert res.share.sum() == 9.519118744616716"
      ]
    }
  ],
  "metadata": {
    "colab": {
      "provenance": []
    },
    "kernelspec": {
      "display_name": "Python 3",
      "name": "python3"
    },
    "language_info": {
      "codemirror_mode": {
        "name": "ipython",
        "version": 3
      },
      "file_extension": ".py",
      "mimetype": "text/x-python",
      "name": "python",
      "nbconvert_exporter": "python",
      "pygments_lexer": "ipython3",
      "version": "3.10.5"
    }
  },
  "nbformat": 4,
  "nbformat_minor": 0
}
