{
 "cells": [
  {
   "cell_type": "markdown",
   "id": "48dd1a29",
   "metadata": {},
   "source": [
    "# NLTK: Python-библиотека для обработки естественного языка"
   ]
  },
  {
   "cell_type": "markdown",
   "id": "332a31b6",
   "metadata": {},
   "source": [
    "### Введение"
   ]
  },
  {
   "cell_type": "markdown",
   "id": "76e466f8",
   "metadata": {},
   "source": [
    "Обработка естественного языка (NLP - Natural Language Processing) - это одна из областей машинного обучения, граничащая с математической лингвистикой. NLP направлена на анализ реально существующих текстов: литературных произведений, научных статей, новостных сводок, юридических документов, текстов песен и т.д., причем вне зависимости от языка их написания. \n",
    "\n",
    "К практическим задачам NLP относятся:\n",
    "- классификация текстов (по жанру, автору и т.д.),\n",
    "- саммаризация (написание краткого содержания) текста,\n",
    "- исправление опечаток в тексте,\n",
    "- машинный перевод,\n",
    "- диалоговые системы (Сири, Алиса, чат-боты для стандартных вопросов в банках, МФЦ и т.д.) и др.\n",
    "\n",
    "NLTK (Natural Language ToolKit) - это одна из основных библиотек для NLP. Она содержит различные инструменты для многих задач обработки естечтвенного языка: от базовых до продвинутых. Чтобы познакомимся с данной библиотекой, мы пройдемся по ее основному функционалу и попробуем примениь его к различным текстам."
   ]
  },
  {
   "cell_type": "markdown",
   "id": "f8ab5054",
   "metadata": {},
   "source": [
    "### Установка библиотеки"
   ]
  },
  {
   "cell_type": "markdown",
   "id": "a5ed6c34",
   "metadata": {},
   "source": [
    "Прежде всего, библиотеку нужно установить и импортировать, и здесь никаких отличий от других библиотек нет."
   ]
  },
  {
   "cell_type": "code",
   "execution_count": 1,
   "id": "8896de49",
   "metadata": {},
   "outputs": [
    {
     "name": "stdout",
     "output_type": "stream",
     "text": [
      "Requirement already satisfied: nltk in c:\\users\\user\\anaconda3\\lib\\site-packages (3.7)"
     ]
    },
    {
     "name": "stderr",
     "output_type": "stream",
     "text": [
      "\n",
      "[notice] A new release of pip is available: 23.2.1 -> 23.3.1\n",
      "[notice] To update, run: python.exe -m pip install --upgrade pip\n"
     ]
    },
    {
     "name": "stdout",
     "output_type": "stream",
     "text": [
      "\n",
      "Requirement already satisfied: click in c:\\users\\user\\anaconda3\\lib\\site-packages (from nltk) (8.0.4)\n",
      "Requirement already satisfied: joblib in c:\\users\\user\\anaconda3\\lib\\site-packages (from nltk) (1.1.0)\n",
      "Requirement already satisfied: regex>=2021.8.3 in c:\\users\\user\\anaconda3\\lib\\site-packages (from nltk) (2022.7.9)\n",
      "Requirement already satisfied: tqdm in c:\\users\\user\\anaconda3\\lib\\site-packages (from nltk) (4.64.1)\n",
      "Requirement already satisfied: colorama in c:\\users\\user\\anaconda3\\lib\\site-packages (from click->nltk) (0.4.5)\n"
     ]
    }
   ],
   "source": [
    "!pip install nltk"
   ]
  },
  {
   "cell_type": "code",
   "execution_count": 1,
   "id": "c8bbb7b4",
   "metadata": {},
   "outputs": [],
   "source": [
    "import nltk  "
   ]
  },
  {
   "cell_type": "markdown",
   "id": "6389e5e9",
   "metadata": {},
   "source": [
    "Однако отличия начинаются уже со следующего шага: NLTK предоставляет доступ к огромному набору из корпусов, моделей, пакетов и т.д., который необходимо скачать. После команды nltk.download() на экране появится диалоговое окно. В нем можно вручную выбрать пакеты или коллекции для скачивания, но проще всего скачать всё, выбрав \"all\" в столбце Identifier вкладки Collections. "
   ]
  },
  {
   "cell_type": "code",
   "execution_count": 2,
   "id": "10cf39a3",
   "metadata": {},
   "outputs": [
    {
     "name": "stdout",
     "output_type": "stream",
     "text": [
      "showing info https://raw.githubusercontent.com/nltk/nltk_data/gh-pages/index.xml\n"
     ]
    },
    {
     "data": {
      "text/plain": [
       "True"
      ]
     },
     "execution_count": 2,
     "metadata": {},
     "output_type": "execute_result"
    }
   ],
   "source": [
    "nltk.download()"
   ]
  },
  {
   "cell_type": "markdown",
   "id": "8797cb3b",
   "metadata": {},
   "source": [
    "### Модули библиотеки"
   ]
  },
  {
   "cell_type": "markdown",
   "id": "1dd87fe9",
   "metadata": {},
   "source": [
    "Если мы перейдем на страницу https://www.nltk.org/api/nltk.html, то увидим, что NLTK состоит из следующих пакетов:\n",
    "* nltk.app (для интерактивных приложений)\n",
    "* nltk.ccg (для комбинаторно-категориальной грамматики)\n",
    "* nltk.chat (для простых чат-ботов)\n",
    "* nltk.chunk (для деления текста на словосочетания заданного типа)\n",
    "* nltk.classify (для классификации текстов)\n",
    "* nltk.cluster (для кластеризации текстов)\n",
    "* nltk.corpus (предоставляет доступ к корпусу текстов)\n",
    "* nltk.draw (для визуализации зависимостей в текстах)\n",
    "* nltk.inference (для доказательства теорем и построения моделей.)\n",
    "* nltk.lm (для лингвистических моделей)\n",
    "* nltk.metrics (содержит различные инструменты и метрики для оценки, например, расстояния между словами или веротяности встречи двух слов в одном осмсыленном контексте)\n",
    "* nltk.misc (разнообразные инструменты для NLP)\n",
    "* nltk.parse (для представления внутренней структуры текста в виде дерева)\n",
    "* nltk.sem (содержит классы для представления семантической структуры с помощью логического аппарата)\n",
    "* nltk.sentiment (для оценки эмоциональной окраски текстов)\n",
    "* nltk.stem (для приведения слов к начальной форме)\n",
    "* nltk.tag (для разметки частей речи слов в тексте)\n",
    "* nltk.tbl (для transformation-based learning)\n",
    "* nltk.tokenize (для разбиения текста на части-токены)\n",
    "* nltk.tree (для визуализации иерархических зависимостей лингвистических конструкций)\n",
    "* nltk.twitter (для работы с документами в виде твитов)\n",
    "\n",
    "В этом докладе мы посмотрим на некоторые из данных пакетов."
   ]
  },
  {
   "cell_type": "markdown",
   "id": "ca9de235",
   "metadata": {},
   "source": [
    "### Корпус текстов"
   ]
  },
  {
   "cell_type": "markdown",
   "id": "89b04353",
   "metadata": {},
   "source": [
    "Чтобы обрабатывать естественный язык, нужно где-то взять тексты на этом языке. Чтобы пользователи не заморачивались с поиском текстов, NLTK предоставляет свой корпус текстов - это nltk.corpus. При этом часть текстов представлена в модуле nltk.book - для начала мы потренируемся на ней."
   ]
  },
  {
   "cell_type": "code",
   "execution_count": 2,
   "id": "54d61f70",
   "metadata": {},
   "outputs": [
    {
     "name": "stdout",
     "output_type": "stream",
     "text": [
      "*** Introductory Examples for the NLTK Book ***\n",
      "Loading text1, ..., text9 and sent1, ..., sent9\n",
      "Type the name of the text or sentence to view it.\n",
      "Type: 'texts()' or 'sents()' to list the materials.\n",
      "text1: Moby Dick by Herman Melville 1851\n",
      "text2: Sense and Sensibility by Jane Austen 1811\n",
      "text3: The Book of Genesis\n",
      "text4: Inaugural Address Corpus\n",
      "text5: Chat Corpus\n",
      "text6: Monty Python and the Holy Grail\n",
      "text7: Wall Street Journal\n",
      "text8: Personals Corpus\n",
      "text9: The Man Who Was Thursday by G . K . Chesterton 1908\n"
     ]
    }
   ],
   "source": [
    "from nltk.book import *"
   ]
  },
  {
   "cell_type": "markdown",
   "id": "5ef6b3fc",
   "metadata": {},
   "source": [
    "Как указано в подсказке выше, в nltk.book есть тексты и предложения. Вывести примеры текстов можно с помощью команды texts(), а примеры предложений - с помощью команды sents(). Посмотрим на оба типа объектов."
   ]
  },
  {
   "cell_type": "code",
   "execution_count": 3,
   "id": "823c5f23",
   "metadata": {},
   "outputs": [
    {
     "name": "stdout",
     "output_type": "stream",
     "text": [
      "text1: Moby Dick by Herman Melville 1851\n",
      "text2: Sense and Sensibility by Jane Austen 1811\n",
      "text3: The Book of Genesis\n",
      "text4: Inaugural Address Corpus\n",
      "text5: Chat Corpus\n",
      "text6: Monty Python and the Holy Grail\n",
      "text7: Wall Street Journal\n",
      "text8: Personals Corpus\n",
      "text9: The Man Who Was Thursday by G . K . Chesterton 1908\n"
     ]
    }
   ],
   "source": [
    "texts()"
   ]
  },
  {
   "cell_type": "markdown",
   "id": "a0e5f092",
   "metadata": {},
   "source": [
    "Видим, что здесь представлены самые разнообразные тексты: и литературные произведения, и переписки, и Wall Streen Journal, и даже инагурационная речь. Какого типа все эти объекты?"
   ]
  },
  {
   "cell_type": "code",
   "execution_count": 4,
   "id": "52c170ff",
   "metadata": {},
   "outputs": [
    {
     "name": "stdout",
     "output_type": "stream",
     "text": [
      "Все тексты в модуле nltk.book имеют специальный тип <class 'nltk.text.Text'>.\n"
     ]
    }
   ],
   "source": [
    "print(f\"Все тексты в модуле nltk.book имеют специальный тип {type(text3)}.\")"
   ]
  },
  {
   "cell_type": "markdown",
   "id": "6ab03afc",
   "metadata": {},
   "source": [
    "Притом с этими текстами можно выполнять привычные нам действия для строк:"
   ]
  },
  {
   "cell_type": "code",
   "execution_count": 7,
   "id": "adc5583a",
   "metadata": {},
   "outputs": [
    {
     "name": "stdout",
     "output_type": "stream",
     "text": [
      "44764\n",
      "2789\n",
      "the\n",
      "['.', 'And', 'the', 'earth', 'was', 'without', 'form', ',', 'and', 'void']\n",
      "289\n"
     ]
    }
   ],
   "source": [
    "print(len(text3)) #Считать количество слов в тексте\n",
    "print(len(set(text3))) #Считать количество уникальных слов\n",
    "print(text3[5]) #Обращаться к слову по индексу\n",
    "print(text3[10:20]) #Брать срез от одного слова до другого\n",
    "print(text3.count(\"with\")) #Считать, сколько раз слово входит в данный текст"
   ]
  },
  {
   "cell_type": "markdown",
   "id": "4309da4f",
   "metadata": {},
   "source": [
    "Но, конечно же, есть и специфичные для данного типа объектов методы:"
   ]
  },
  {
   "cell_type": "code",
   "execution_count": 8,
   "id": "e1e3381e",
   "metadata": {},
   "outputs": [
    {
     "name": "stdout",
     "output_type": "stream",
     "text": [
      "The Book of Genesis\n"
     ]
    }
   ],
   "source": [
    "print(text3.name) #Вывести название текста"
   ]
  },
  {
   "cell_type": "code",
   "execution_count": 9,
   "id": "989f0892",
   "metadata": {},
   "outputs": [
    {
     "name": "stdout",
     "output_type": "stream",
     "text": [
      "Displaying 8 of 8 matches:\n",
      "arah thy wife shall bear thee a son indeed ; and thou shalt call his name Isa \n",
      "y me for my wife ' s sake . And yet indeed she is my sister ; she is the daugh\n",
      "s brethren said to him , Shalt thou indeed reign over us ? or shalt thou indee\n",
      "ndeed reign over us ? or shalt thou indeed have dominion over us ? And they ha\n",
      "l I and thy mother and thy brethren indeed come to bow down ourselves to thee \n",
      " , and bring me out of this hou For indeed I was stolen away out of the land o\n",
      " house , And said , O sir , we came indeed down at the first time to buy fo An\n",
      "hich my lord drinketh , and whereby indeed he divineth ? ye have done evil in \n"
     ]
    }
   ],
   "source": [
    "text3.concordance(\"indeed\") #Вывести части предложений (фактически, контекст), содержащих заданное слово"
   ]
  },
  {
   "cell_type": "code",
   "execution_count": 10,
   "id": "ead078e7",
   "metadata": {},
   "outputs": [
    {
     "name": "stdout",
     "output_type": "stream",
     "text": [
      "much great earnest well long so this far handsome happy lively anxious\n",
      "dull stubborn the large they as constant which\n"
     ]
    }
   ],
   "source": [
    "text2.similar(\"strong\") #Вывести слова, которые близки по контексту к заданному"
   ]
  },
  {
   "cell_type": "code",
   "execution_count": 11,
   "id": "f77bafa5",
   "metadata": {},
   "outputs": [
    {
     "name": "stdout",
     "output_type": "stream",
     "text": [
      "very_to be_to so_to was_to\n"
     ]
    }
   ],
   "source": [
    "text2.common_contexts([\"glad\", \"happy\"]) #Изучить общий контекст нескольких слов \n",
    "#(на выходе получаем словосочетания с пропусками, куда можно вставить любое из заданных слов)"
   ]
  },
  {
   "cell_type": "markdown",
   "id": "048788f5",
   "metadata": {},
   "source": [
    "Когда мы имеем дело с десятками тысяч слов, подсчитывать частоту встречаемости с помощью метода count для каждого из них - долго и неоптимально. Вместо этого используем метод FreqDist, который принимает текст и выдает пары вида (слово/знак препинания, сколько раз оно встретилось в тексте). Чтобы вывести наиболее часто встречающиеся слова достаточно использовать метод most_common и в качестве параметра указать, сколько самых употребимых слов нужно вывести:"
   ]
  },
  {
   "cell_type": "code",
   "execution_count": 12,
   "id": "d9020499",
   "metadata": {},
   "outputs": [
    {
     "name": "stdout",
     "output_type": "stream",
     "text": [
      "[(',', 3681), ('and', 2428), ('the', 2411), ('of', 1358), ('.', 1315), ('And', 1250), ('his', 651), ('he', 648), ('to', 611), (';', 605), ('unto', 590), ('in', 588), ('that', 509), ('I', 484), ('said', 476), ('him', 387), ('a', 342), ('my', 325), ('was', 317), ('for', 297), ('it', 290), ('with', 289), ('me', 282), ('thou', 272), (\"'\", 268), ('is', 267), ('thy', 267), ('s', 263), ('thee', 257), ('be', 254)]\n"
     ]
    }
   ],
   "source": [
    "freq = nltk.FreqDist(text3)\n",
    "print(freq.most_common(30))"
   ]
  },
  {
   "cell_type": "code",
   "execution_count": 5,
   "id": "504f7e7e",
   "metadata": {},
   "outputs": [
    {
     "name": "stdout",
     "output_type": "stream",
     "text": [
      "sent1: Call me Ishmael .\n",
      "sent2: The family of Dashwood had long been settled in Sussex .\n",
      "sent3: In the beginning God created the heaven and the earth .\n",
      "sent4: Fellow - Citizens of the Senate and of the House of Representatives :\n",
      "sent5: I have a problem with people PMing me to lol JOIN\n",
      "sent6: SCENE 1 : [ wind ] [ clop clop clop ] KING ARTHUR : Whoa there !\n",
      "sent7: Pierre Vinken , 61 years old , will join the board as a nonexecutive director Nov. 29 .\n",
      "sent8: 25 SEXY MALE , seeks attrac older single lady , for discreet encounters .\n",
      "sent9: THE suburb of Saffron Park lay on the sunset side of London , as red and ragged as a cloud of sunset .\n"
     ]
    }
   ],
   "source": [
    "sents()"
   ]
  },
  {
   "cell_type": "markdown",
   "id": "2d91fe54",
   "metadata": {},
   "source": [
    "Вывели список предложений. Какого типа все эти объекты?"
   ]
  },
  {
   "cell_type": "code",
   "execution_count": 14,
   "id": "834c32c7",
   "metadata": {},
   "outputs": [
    {
     "name": "stdout",
     "output_type": "stream",
     "text": [
      "Все предложения в модуле nltk.book тип <class 'list'>, поэтому с ними можно выполнять все действия, что и с обычными списками.\n"
     ]
    }
   ],
   "source": [
    "print(f\"Все предложения в модуле nltk.book тип {type(sent2)}, поэтому с ними можно выполнять все действия, что и с обычными списками.\")"
   ]
  },
  {
   "cell_type": "markdown",
   "id": "b498650d",
   "metadata": {},
   "source": [
    "Теперь возьмем какой-нибудь другой набор текстов, но уже из nltk.corpus - например, из набора текстов gutenberg."
   ]
  },
  {
   "cell_type": "code",
   "execution_count": 16,
   "id": "d37faf2c",
   "metadata": {},
   "outputs": [],
   "source": [
    "from nltk.corpus import gutenberg "
   ]
  },
  {
   "cell_type": "code",
   "execution_count": 17,
   "id": "208e8632",
   "metadata": {},
   "outputs": [
    {
     "name": "stdout",
     "output_type": "stream",
     "text": [
      "['austen-emma.txt', 'austen-persuasion.txt', 'austen-sense.txt', 'bible-kjv.txt', 'blake-poems.txt', 'bryant-stories.txt', 'burgess-busterbrown.txt', 'carroll-alice.txt', 'chesterton-ball.txt', 'chesterton-brown.txt', 'chesterton-thursday.txt', 'edgeworth-parents.txt', 'melville-moby_dick.txt', 'milton-paradise.txt', 'shakespeare-caesar.txt', 'shakespeare-hamlet.txt', 'shakespeare-macbeth.txt', 'whitman-leaves.txt']\n"
     ]
    }
   ],
   "source": [
    "print(gutenberg.fileids()) #Распечатаем названия файлов в этом наборе и посмотрим, какие тексты здесь есть\n",
    "#О, тут есть \"Алиса в стране чудес\" Льюиса Кэролла! Выберем ее"
   ]
  },
  {
   "cell_type": "code",
   "execution_count": 18,
   "id": "0ba9a869",
   "metadata": {},
   "outputs": [
    {
     "name": "stdout",
     "output_type": "stream",
     "text": [
      "['[', 'Alice', \"'\", 's', 'Adventures', 'in', ...]\n"
     ]
    }
   ],
   "source": [
    "#Чтобы получить текст, разделенный по словам и знакам препинания, используем метод words \n",
    "#и передаем в него название нужного произведения\n",
    "tale_words=gutenberg.words('carroll-alice.txt')\n",
    "print(tale_words) "
   ]
  },
  {
   "cell_type": "code",
   "execution_count": 19,
   "id": "c1c69a9a",
   "metadata": {},
   "outputs": [
    {
     "name": "stdout",
     "output_type": "stream",
     "text": [
      "[['[', 'Alice', \"'\", 's', 'Adventures', 'in', 'Wonderland', 'by', 'Lewis', 'Carroll', '1865', ']'], ['CHAPTER', 'I', '.'], ...]\n"
     ]
    }
   ],
   "source": [
    "#По аналогии можно разбить текст по предложениям с помощью метода sents...\n",
    "tale_sents=gutenberg.sents('carroll-alice.txt')\n",
    "print(tale_sents)"
   ]
  },
  {
   "cell_type": "code",
   "execution_count": 20,
   "id": "be047d85",
   "metadata": {},
   "outputs": [
    {
     "name": "stdout",
     "output_type": "stream",
     "text": [
      "[[['[', 'Alice', \"'\", 's', 'Adventures', 'in', 'Wonderland', 'by', 'Lewis', 'Carroll', '1865', ']']], [['CHAPTER', 'I', '.'], ['Down', 'the', 'Rabbit', '-', 'Hole']], ...]\n"
     ]
    }
   ],
   "source": [
    "#...или по абзацам с помощью метода paras\n",
    "tale_paras=gutenberg.paras('carroll-alice.txt')\n",
    "print(tale_paras)"
   ]
  },
  {
   "cell_type": "markdown",
   "id": "9a51b946",
   "metadata": {},
   "source": [
    "К полученным объектам применимы методы списков: получение длины, обращение по индексу, \"склеивание\" в строку с помощью метода join и др."
   ]
  },
  {
   "cell_type": "code",
   "execution_count": 21,
   "id": "cb14f4a6",
   "metadata": {},
   "outputs": [
    {
     "name": "stdout",
     "output_type": "stream",
     "text": [
      "В произведении 'Алиса в стране чудес' 34110 слов и знаков препининия, 1703 предложений и 817 абзацев.\n",
      "------------------------------\n",
      "25-ое слово в произведении - это get.\n",
      "------------------------------\n",
      "9-ое предложение книги гласит: ( when she thought it over afterwards , it occurred to her that she ought to have wondered at this , but at the time it all seemed quite natural ); but when the Rabbit actually TOOK A WATCH OUT OF ITS WAISTCOAT - POCKET , and looked at it , and then hurried on , Alice started to her feet , for it flashed across her mind that she had never before seen a rabbit with either a waistcoat - pocket , or a watch to take out of it , and burning with curiosity , she ran across the field after it , and fortunately was just in time to see it pop down a large rabbit - hole under the hedge .\n",
      "------------------------------\n",
      "15-ый абзац начинается так: Suddenly she came upon a little three - legged table , all made of solid glass ; there was nothing on it except a tiny golden key , and Alice ' s first thought was that it might belong to one of the doors of the hall ; but , alas !\n"
     ]
    }
   ],
   "source": [
    "print(f\"В произведении 'Алиса в стране чудес' {len(tale_words)} слов и знаков препининия, {len(tale_sents)} предложений и {len(tale_paras)} абзацев.\")\n",
    "print('-'*30)\n",
    "print(f\"25-ое слово в произведении - это {tale_words[24]}.\")\n",
    "print('-'*30)\n",
    "print(f\"9-ое предложение книги гласит: {' '.join(tale_sents[8])}\")\n",
    "print('-'*30)\n",
    "print(f\"15-ый абзац начинается так: {' '.join(tale_paras[14][0])}\")"
   ]
  },
  {
   "cell_type": "markdown",
   "id": "9fe22698",
   "metadata": {},
   "source": [
    "### Семантика, отношения между словами"
   ]
  },
  {
   "cell_type": "markdown",
   "id": "4da3c841",
   "metadata": {},
   "source": [
    "В NLP мы так или иначе сталкиваемся с необходимостью проверить/узнать/сравнить значения слов, понять, какими отношениями связаны два слова - для этих целей NLTK предлагает модуль wordnet. С его помощью можно вывести определения слова, примеры его использования с контекстом, его синонимы, антонимы, гиперонимы, гипонимы, ассоциированные слова, узнать \"близость\" слов по разным метрикам и др."
   ]
  },
  {
   "cell_type": "code",
   "execution_count": 7,
   "id": "6d75709a",
   "metadata": {},
   "outputs": [],
   "source": [
    "from nltk.corpus import wordnet as wn"
   ]
  },
  {
   "cell_type": "code",
   "execution_count": 8,
   "id": "aee48b24",
   "metadata": {},
   "outputs": [
    {
     "name": "stdout",
     "output_type": "stream",
     "text": [
      "[Synset('return.n.06'), Synset('take.n.02'), Synset('take.v.01'), Synset('take.v.02'), Synset('lead.v.01'), Synset('take.v.04'), Synset('assume.v.03'), Synset('take.v.06'), Synset('bring.v.01'), Synset('take.v.08'), Synset('take.v.09'), Synset('choose.v.01'), Synset('accept.v.02'), Synset('fill.v.04'), Synset('consider.v.03'), Synset('necessitate.v.01'), Synset('take.v.15'), Synset('film.v.01'), Synset('remove.v.01'), Synset('consume.v.02'), Synset('take.v.19'), Synset('take.v.20'), Synset('take.v.21'), Synset('assume.v.05'), Synset('accept.v.05'), Synset('take.v.24'), Synset('learn.v.04'), Synset('claim.v.05'), Synset('take.v.27'), Synset('aim.v.01'), Synset('take.v.29'), Synset('carry.v.02'), Synset('lease.v.04'), Synset('subscribe.v.05'), Synset('take.v.33'), Synset('take.v.34'), Synset('take.v.35'), Synset('claim.v.04'), Synset('accept.v.08'), Synset('contain.v.05'), Synset('take.v.39'), Synset('drive.v.16'), Synset('take.v.41'), Synset('contract.v.04')]\n",
      "------------------------------\n",
      "[Synset('take.v.01'), Synset('take.v.02'), Synset('lead.v.01'), Synset('take.v.04'), Synset('assume.v.03'), Synset('take.v.06'), Synset('bring.v.01'), Synset('take.v.08'), Synset('take.v.09'), Synset('choose.v.01'), Synset('accept.v.02'), Synset('fill.v.04'), Synset('consider.v.03'), Synset('necessitate.v.01'), Synset('take.v.15'), Synset('film.v.01'), Synset('remove.v.01'), Synset('consume.v.02'), Synset('take.v.19'), Synset('take.v.20'), Synset('take.v.21'), Synset('assume.v.05'), Synset('accept.v.05'), Synset('take.v.24'), Synset('learn.v.04'), Synset('claim.v.05'), Synset('take.v.27'), Synset('aim.v.01'), Synset('take.v.29'), Synset('carry.v.02'), Synset('lease.v.04'), Synset('subscribe.v.05'), Synset('take.v.33'), Synset('take.v.34'), Synset('take.v.35'), Synset('claim.v.04'), Synset('accept.v.08'), Synset('contain.v.05'), Synset('take.v.39'), Synset('drive.v.16'), Synset('take.v.41'), Synset('contract.v.04')]\n"
     ]
    }
   ],
   "source": [
    "syns_take = wn.synsets(\"take\")\n",
    "print(syns_take) #Получили определения заданного слова во всевозможных частях речи, а также определения его синонимов\n",
    "print('-'*30)\n",
    "syns_take_verb = wn.synsets(\"take\", pos=wn.VERB) #Также можем задать конкретную часть речи \n",
    "print(syns_take_verb)"
   ]
  },
  {
   "cell_type": "markdown",
   "id": "289e7599",
   "metadata": {},
   "source": [
    "Полученные списки состоят из объектов типа synset - что за тип? Дословно SynSet=synonyms set - набор синонимов, имеющих одинаковое значение."
   ]
  },
  {
   "cell_type": "code",
   "execution_count": 9,
   "id": "37d07561",
   "metadata": {},
   "outputs": [
    {
     "name": "stdout",
     "output_type": "stream",
     "text": [
      "Definitions of the verb TAKE:\n",
      "1) carry out\n",
      "Examples of usage: take action, take steps, take vengeance\n",
      "2) require (time or space)\n",
      "Examples of usage: It took three hours to get to work this morning. This event occupied a very short time\n"
     ]
    }
   ],
   "source": [
    "#Чтобы из объекта типа synset получить определяемое слово, мы извлекаем все леммы, ассоциированные с ним, \n",
    "#с помощью метода lemmas, затем берем первое из них - само слово, и извлекаем его из леммы с помощью метода name\n",
    "print(f\"Definitions of the verb {syns_take_verb[0].lemmas()[0].name().upper()}:\")\n",
    "print(\"1)\", syns_take_verb[0].definition()) #С помощью метода definition выводим определение заданного слова в выбранном значении\n",
    "print(f\"Examples of usage: {', '.join(syns_take_verb[0].examples())}\") #Метод examples выдает примеры использования\n",
    "print(\"2)\", syns_take_verb[1].definition())\n",
    "print(f\"Examples of usage: {'. '.join(syns_take_verb[1].examples())}\")"
   ]
  },
  {
   "cell_type": "code",
   "execution_count": 10,
   "id": "329f6f6b",
   "metadata": {},
   "outputs": [
    {
     "name": "stdout",
     "output_type": "stream",
     "text": [
      "[Lemma('sorrow.n.01.sorrow')]\n",
      "[Synset('emotion.n.01')]\n",
      "[Synset('elation.n.02'), Synset('exhilaration.n.01'), Synset('exuberance.n.01'), Synset('exultation.n.01')]\n"
     ]
    }
   ],
   "source": [
    "joy = wn.synset('joy.n.01') #Так по слову, части речи и его номеру в списке значений можно получить его synset\n",
    "print(joy.lemmas()[0].antonyms()) #Вывели антонимы слова\n",
    "print(joy.hypernyms()) #Вывели гиперонимы слова\n",
    "print(joy.hyponyms()) #Вывели гипонимы слова"
   ]
  },
  {
   "cell_type": "markdown",
   "id": "0e0657bc",
   "metadata": {},
   "source": [
    "Также NLTK предоставляет готовые метрики, чтобы узнать семантическую близость слов в разных аспектах.\n",
    "Например, ипользуется метод path_similarity: он возвращает коэффициент семантической близости (от 0 до 1) двух слов, основанный на кратчайшем пути, соединяющем два слова в \"is-a\" классификации (в этой классификации слова связываются отношениями гипероним/гипоним, подобно графу, и уже в нем находится кратчайший путь между 2 заданными словами). Чем меньше коэффициент близости слов, чем дальше они друг от друга семантически. Соответственно, коэффициент близости 1 получается от применения данного метода для одного и того же слова."
   ]
  },
  {
   "cell_type": "code",
   "execution_count": 13,
   "id": "97460ddb",
   "metadata": {},
   "outputs": [
    {
     "name": "stdout",
     "output_type": "stream",
     "text": [
      "0.14285714285714285\n"
     ]
    }
   ],
   "source": [
    "school = wn.synset('school.n.01')\n",
    "university = wn.synset('university.n.01')\n",
    "sim1= school.path_similarity(university)\n",
    "print(sim1)"
   ]
  },
  {
   "cell_type": "markdown",
   "id": "560b5e5f",
   "metadata": {},
   "source": [
    "Также есть метод lch_similarity (Leacock-Chodorow Similarity): он возвращает коэффициент семантической близости 2 слов, основанный на длине кратчайшего пути (как в прерыдущем методе, обозначим p) и максимальной глубине классификации для данного слова (обозначим d). Тогда возвращаемое значение рассчитывается как -log(p/(2d))."
   ]
  },
  {
   "cell_type": "code",
   "execution_count": 14,
   "id": "7e6763b5",
   "metadata": {},
   "outputs": [
    {
     "name": "stdout",
     "output_type": "stream",
     "text": [
      "1.6916760106710724\n"
     ]
    }
   ],
   "source": [
    "sim2=school.lch_similarity(university)\n",
    "print(sim2)"
   ]
  },
  {
   "cell_type": "markdown",
   "id": "dd53ef5c",
   "metadata": {},
   "source": [
    "Наконец, еще есть метод wup_similarity (Wu-Palmer Similarity): он возвращает коэффициент семантической близости 2 слов, основанный на глубине классификации двух слов и их наиболее точного общего \"предка\"."
   ]
  },
  {
   "cell_type": "code",
   "execution_count": 15,
   "id": "894c4ddc",
   "metadata": {},
   "outputs": [
    {
     "name": "stdout",
     "output_type": "stream",
     "text": [
      "0.5714285714285714\n"
     ]
    }
   ],
   "source": [
    "sim3=school.wup_similarity(university)\n",
    "print(sim3)"
   ]
  },
  {
   "cell_type": "markdown",
   "id": "2c5d5b51",
   "metadata": {},
   "source": [
    "### Tokenization"
   ]
  },
  {
   "cell_type": "markdown",
   "id": "347a5510",
   "metadata": {},
   "source": [
    "Когда мы работали с корпусом, мы легко делили текст по словам, предложениям или абзацам с помощью соответствуюшего метода, и это было удобно. Но что если мы работаем с текстом не из корпуса, а с каким-то иным документом извне? Тогда можно воспользоваться токенизаторами.\n",
    "\n",
    "В NLP токен - это некоторый фрагмент текста, обычно слово или предложение. Соответственно, текст можно токенизировать по словам или предложениям (в зависимости от цели). Модуль nltk.tokenize предоставляет несколько готовых токенизаторов. Рассмотрим работу некоторых из них на одном и том же тексте, который специально \"подпортим\" лишними пробелами, небуквенными и непунктуационными символами, датами, числами и т.д.\n",
    "\n",
    "[Чтобы понимать, как токенизатор разделил текст по словам, будем использовать символ '/']"
   ]
  },
  {
   "cell_type": "code",
   "execution_count": 30,
   "id": "b6913d48",
   "metadata": {},
   "outputs": [],
   "source": [
    "from nltk.tokenize import sent_tokenize, word_tokenize, MWETokenizer, punkt, TweetTokenizer\n",
    "text='''  \n",
    "    Today is   2023-11-20, and it's finally snowing well in Europe! December's coming; I feel  these #Happy_New_Year vibes in the air ;> \n",
    "  Holidays in 5.5 weeks!\n",
    "I wish I  could now <<drink    hot chocolate>>  and <   <go skating>>, but 100% of students in my uni  finish studies just on the New Year Eve :( Whyyy??? Nasty thing...\n",
    " Mrs. Smith and Lady Jane have invited me to go  shopping for #Christmas gifts at around 5 p.m., and I'd     really love to go  , but idk when. \n",
    "'''"
   ]
  },
  {
   "cell_type": "markdown",
   "id": "406211ef",
   "metadata": {},
   "source": [
    "Токенизаторы word_tokenize и TweetTokenize делят текст по словам. Видим, что word_tokenize работает довольно прямолинейно, а TweetTokenize более аккуратно: в отличие от первого, второй видит хэштеги, объединенные нижними подечеркиваниями слова и смайлики, не отделяет сокращенный глагол (типа 's) от подлежащего. Притом оба токенизатора справились с лишними пробелами в тексте."
   ]
  },
  {
   "cell_type": "code",
   "execution_count": 33,
   "id": "5ece4031",
   "metadata": {},
   "outputs": [
    {
     "name": "stdout",
     "output_type": "stream",
     "text": [
      "ТОКЕНИЗАЦИЯ С ПОМОЩЬЮ WORD_TOKENIZE\n",
      "Today/ is/ 2023-11-20/ ,/ and/ it/ 's/ finally/ snowing/ well/ in/ Europe/ !/ December/ 's/ coming/ ;/ I/ feel/ these/ #/ Happy_New_Year/ vibes/ in/ the/ air/ ;/ >/ Holidays/ in/ 5.5/ weeks/ !/ I/ wish/ I/ could/ now/ </ </ drink/ hot/ chocolate/ >/ >/ and/ </ </ go/ skating/ >/ >/ ,/ but/ 100/ %/ of/ students/ in/ my/ uni/ finish/ studies/ just/ on/ the/ New/ Year/ Eve/ :/ (/ Whyyy/ ?/ ?/ ?/ Nasty/ thing/ .../ Mrs./ Smith/ and/ Lady/ Jane/ have/ invited/ me/ to/ go/ shopping/ for/ #/ Christmas/ gifts/ at/ around/ 5/ p.m./ ,/ and/ I/ 'd/ really/ love/ to/ go/ ,/ but/ idk/ when/ .\n",
      "--------------------------------------------------\n",
      "ТОКЕНИЗАЦИЯ С ПОМОЩЬЮ TWEETTOKENIZER\n",
      "Today/ is/ 2023-11-/ 20/ ,/ and/ it's/ finally/ snowing/ well/ in/ Europe/ !/ December's/ coming/ ;/ I/ feel/ these/ #Happy_New_Year/ vibes/ in/ the/ air/ ;/ >/ Holidays/ in/ 5.5/ weeks/ !/ I/ wish/ I/ could/ now/ </ </ drink/ hot/ chocolate/ >/ >/ and/ </ </ go/ skating/ >/ >/ ,/ but/ 100/ %/ of/ students/ in/ my/ uni/ finish/ studies/ just/ on/ the/ New/ Year/ Eve/ :(/ Whyyy/ ?/ ?/ ?/ Nasty/ thing/ .../ Mrs/ ./ Smith/ and/ Lady/ Jane/ have/ invited/ me/ to/ go/ shopping/ for/ #Christmas/ gifts/ at/ around/ 5/ p/ ./ m/ ./ ,/ and/ I'd/ really/ love/ to/ go/ ,/ but/ idk/ when/ .\n"
     ]
    }
   ],
   "source": [
    "print(\"Токенизация с помощью word_tokenize\".upper())\n",
    "print('/ '.join(word_tokenize(text)))\n",
    "print('-'*50)\n",
    "print(\"Токенизация с помощью TweetTokenizer\".upper())\n",
    "tweet_tokenize = TweetTokenizer()\n",
    "print('/ '.join(tweet_tokenize.tokenize(text)))"
   ]
  },
  {
   "cell_type": "markdown",
   "id": "2720e5eb",
   "metadata": {},
   "source": [
    "Отличительная черта word_tokenize - это возможность получить список токенов с указанием части речи для каждого из них. Для этого используется метод pos_tag, причем есть несколько способов разметки частей речи (universal, wjs, brown - они отличаются полнотой и детальностью описания различных частей речи)."
   ]
  },
  {
   "cell_type": "code",
   "execution_count": 34,
   "id": "b024444d",
   "metadata": {},
   "outputs": [
    {
     "name": "stdout",
     "output_type": "stream",
     "text": [
      "Universal - Default\n",
      "------------------------------\n",
      "('Mrs.', 'NOUN') - ('Mrs.', 'NNP')\n",
      "('Smith', 'NOUN') - ('Smith', 'NNP')\n",
      "('and', 'CONJ') - ('and', 'CC')\n",
      "('Lady', 'NOUN') - ('Lady', 'NNP')\n",
      "('Jane', 'NOUN') - ('Jane', 'NNP')\n",
      "('have', 'VERB') - ('have', 'VBP')\n",
      "('invited', 'VERB') - ('invited', 'VBN')\n",
      "('me', 'PRON') - ('me', 'PRP')\n",
      "('to', 'PRT') - ('to', 'TO')\n",
      "('go', 'VERB') - ('go', 'VB')\n",
      "('shopping', 'NOUN') - ('shopping', 'NN')\n",
      "('for', 'ADP') - ('for', 'IN')\n",
      "('Christmas', 'NOUN') - ('Christmas', 'NNP')\n",
      "('gifts', 'NOUN') - ('gifts', 'NNS')\n",
      "('at', 'ADP') - ('at', 'IN')\n",
      "('around', 'ADP') - ('around', 'IN')\n",
      "('5', 'NUM') - ('5', 'CD')\n",
      "('p.m.', 'NOUN') - ('p.m.', 'NN')\n",
      "(',', '.') - (',', ',')\n",
      "('and', 'CONJ') - ('and', 'CC')\n",
      "('I', 'PRON') - ('I', 'PRP')\n",
      "(\"'d\", 'VERB') - (\"'d\", 'MD')\n",
      "('really', 'ADV') - ('really', 'RB')\n",
      "('love', 'VERB') - ('love', 'VB')\n",
      "('to', 'PRT') - ('to', 'TO')\n",
      "('go', 'VERB') - ('go', 'VB')\n",
      "(',', '.') - (',', ',')\n",
      "('but', 'CONJ') - ('but', 'CC')\n",
      "('idk', 'NOUN') - ('idk', 'NN')\n",
      "('when', 'ADV') - ('when', 'WRB')\n",
      "('.', '.') - ('.', '.')\n"
     ]
    }
   ],
   "source": [
    "sent7 = word_tokenize(\"Mrs. Smith and Lady Jane have invited me to go shopping for Christmas gifts at around 5 p.m., and I'd really love to go, but idk when.\")\n",
    "uni_sent7 = nltk.pos_tag(sent7, tagset='universal') \n",
    "def_sent7 = nltk.pos_tag(sent7) \n",
    "print('Universal - Default')\n",
    "print('-'*30)\n",
    "for i in range(len(uni_sent7)):\n",
    "    print(f\"{uni_sent7[i]} - {def_sent7[i]}\")"
   ]
  },
  {
   "cell_type": "markdown",
   "id": "4b1815a5",
   "metadata": {},
   "source": [
    "Видим, что данная разметка также учитывает сокращения, имена собственные, числа, знаки препинания и даже распознает сокращенные формы глаголов как глаголы ('d). Также дефолтный tagset оказался более детальным и разборчивым, чем universal tagset."
   ]
  },
  {
   "cell_type": "markdown",
   "id": "7e1f70a6",
   "metadata": {},
   "source": [
    "Теперь рассмотрим токенизаторы, делящие текст на предложения - например, sentence_tokenize и punkt."
   ]
  },
  {
   "cell_type": "code",
   "execution_count": 35,
   "id": "c041c154",
   "metadata": {},
   "outputs": [
    {
     "name": "stdout",
     "output_type": "stream",
     "text": [
      "ТОКЕНИЗАЦИЯ С ПОМОЩЬЮ SENT_TOKENIZE\n",
      "1)   \n",
      "    Today is   2023-11-20, and it's finally snowing well in Europe!\n",
      "2) December's coming; I feel  these #Happy_New_Year vibes in the air ;> \n",
      "  Holidays in 5.5 weeks!\n",
      "3) I wish I  could now <<drink    hot chocolate>>  and <   <go skating>>, but 100% of students in my uni  finish studies just on the New Year Eve :( Whyyy???\n",
      "4) Nasty thing...\n",
      " Mrs. Smith and Lady Jane have invited me to go  shopping for #Christmas gifts at around 5 p.m., and I'd     really love to go  , but idk when.\n",
      "----------------------------------------\n",
      "ТОКЕНИЗАЦИЯ С ПОМОЩЬЮ PUNKT\n",
      "1)   \n",
      "    Today is   2023-11-20, and it's finally snowing well in Europe!\n",
      "2) December's coming; I feel  these #Happy_New_Year vibes in the air ;> \n",
      "  Holidays in 5.5 weeks!\n",
      "3) I wish I  could now <<drink    hot chocolate>>  and <   <go skating>>, but 100% of students in my uni  finish studies just on the New Year Eve :( Whyyy???\n",
      "4) Nasty thing...\n",
      " Mrs. Smith and Lady Jane have invited me to go  shopping for #Christmas gifts at around 5 p.m., and I'd     really love to go  , but idk when.\n"
     ]
    }
   ],
   "source": [
    "print(\"Токенизация с помощью sent_tokenize\".upper())\n",
    "res_sent=sent_tokenize(text)\n",
    "for i in range(len(res_sent)):\n",
    "    print(f\"{i+1}) {res_sent[i]}\")\n",
    "print('-'*40)    \n",
    "print(\"Токенизация с помощью punkt\".upper())      \n",
    "punkt_tokenize = nltk.data.load('tokenizers/punkt/english.pickle')\n",
    "res_punkt=punkt_tokenize.tokenize(text)\n",
    "for i in range(len(res_punkt)):\n",
    "    print(f\"{i+1}) {res_punkt[i]}\")"
   ]
  },
  {
   "cell_type": "markdown",
   "id": "11aca66b",
   "metadata": {},
   "source": [
    "Видим, что два токенизатора разбили данный текст на предложения одинаково. Более того, оба токенизатора не обрабатывают случай, когда предложение заканчивается смайликом или многоточием."
   ]
  },
  {
   "cell_type": "markdown",
   "id": "68288b9f",
   "metadata": {},
   "source": [
    "### Chunking, chinking, named entities"
   ]
  },
  {
   "cell_type": "markdown",
   "id": "04e87158",
   "metadata": {},
   "source": [
    "Chunking - это деление предложений на словосочетния, фразы. Эта процедура может быть полезна для уточнения контекста, который обуславливает значение слова и его отношения с окружающими его словами. Когда мы осуществляем chunking, мы указываем грамматические структуры, которые хотим включить в итоговые фразы. Для этого мы в явном виде прописываем эти структуры с помощью регулярных выражений (regex).\n",
    "\n",
    "В примере ниже будет использоваться structure1 = \"NP: {\\<JJ>\\<NN>}\". Это регулярное выражение предполагает конструкцию \"прилагательное (\\<JJ>)-существительное (\\<NN>)\". Здесь для указания частей речи используются те же индексы, что и в дефолтном tagset из предыдущего блока. \n",
    "\n",
    "Chinking - это тоже деление предложений на словосочетания, однако здесь мы указываем структуры, которые хотели бы исключить из итоговых фраз.\n",
    "    \n",
    "В примере ниже будет использоваться\n",
    "\n",
    "structure2 = '''\n",
    "\n",
    "NP: {<.*>+}\n",
    "\n",
    "}\\<VBD>{  '''\n",
    "\n",
    "Сначала мы включаем любой контекст с помощью обычных фигурных скобок ({<.*>+}), а затем используем вывернутые фигурные скобки, чтобы показать, что хотим исключить глаголы в прошедшем времени (}\\<VBD>{).\n",
    "\n",
    "NP в начале расмматриваемых выражений - это некий маркер начала регулярного выражения."
   ]
  },
  {
   "cell_type": "code",
   "execution_count": 36,
   "id": "67328a92",
   "metadata": {},
   "outputs": [],
   "source": [
    "text2_abst = text2[30:100] #Берем отрывок из 2 текста из nltk.book\n",
    "tagged_text2_abst = nltk.pos_tag(text2_abst) #Размечаем слова текста частями речи\n",
    "structure1 = \"NP: {<JJ><NN>}\" #Определяем грамматиеские структуры для chunking и chinking\n",
    "structure2 = '''\n",
    "NP: {<.*>+}\n",
    "}<VBD>{  '''\n",
    "\n",
    "#Задаем фунцкии, которые будут разбивать предложения по заданным структурам\n",
    "chunk_parser1 = nltk.RegexpParser(structure1)\n",
    "chunk_parser2 = nltk.RegexpParser(structure2)"
   ]
  },
  {
   "cell_type": "code",
   "execution_count": 37,
   "id": "bf52c81a",
   "metadata": {},
   "outputs": [],
   "source": [
    "#Рисуем деревья для двух получившихся групп фраз\n",
    "tree1 = chunk_parser1.parse(tagged_text2_abst)\n",
    "tree1.draw()\n",
    "\n",
    "#В открывшемся диалоговом окне видим дерево, представляющее рассматриваемый текст, где выделены наденные словосочетания: \n",
    "#good opinion, surrounding acquaintance, late owner, single man, advanced age, constant companion"
   ]
  },
  {
   "cell_type": "code",
   "execution_count": 38,
   "id": "b1e4148b",
   "metadata": {},
   "outputs": [],
   "source": [
    "tree2 = chunk_parser2.parse(tagged_text2_abst)\n",
    "tree2.draw()\n",
    "\n",
    "#В открывшемся диалоговом окне видим более многоуровневое дерево, представляющее рассматриваемый текст\n",
    "#Теперь в нем выделены все глаголы в прошедшем времени и части предложения, которые эти глаголы соединяют между собой."
   ]
  },
  {
   "cell_type": "markdown",
   "id": "10a1e980",
   "metadata": {},
   "source": [
    "Также важно распознавать в тексте так называемые named entities (именованные сущности). Это могут быть имена собственные (люди, организации, географические объекты и т.д.), время, даты, деньги, проценты и др. Распознавание именованных сущностей нужно, например, чтобы отличать apple и Apple, guardian и Guardian и т.д., ведь это может кардинально поменять смысл предложения. Для такого распознавания используется ne_chunker."
   ]
  },
  {
   "cell_type": "code",
   "execution_count": 40,
   "id": "c509d0a8",
   "metadata": {},
   "outputs": [],
   "source": [
    "news=\"The UN General Assembly under the guidance of Antonio Guterres will convene three High-Level Meetings on health during its 78th session in New York in September 2023.\" \n",
    "tagged_news = nltk.pos_tag(list(x.strip() for x in news.split()))\n",
    "tree3 = nltk.ne_chunk(tagged_news)\n",
    "tree3.draw()\n",
    "\n",
    "#Видим, что было распознано 3 именованных сущности: организация (UN), человек (Antonio Guterres) и город (New York)"
   ]
  },
  {
   "cell_type": "markdown",
   "id": "a4f78a80",
   "metadata": {},
   "source": [
    "### Неинформативные слова и знаки препинания"
   ]
  },
  {
   "cell_type": "markdown",
   "id": "045d06d9",
   "metadata": {},
   "source": [
    "В большинстве предложений любого языка содержатся знаки препинания и неинформативные слова: служебные части речи (союзы, предлоги, частицы), местоимения, модальные глаголы и тд. Они нужны для связи слов в предложении и не несут в себе его ключевой смысл. Когда мы рассматривали метод FreqDist, мы вывели 30 наиболее часто встречающихся слов в text3, и почти все объекты в этом списке были знаками пунктуации или неинформативными словами. Соответственно, чтобы работать только со смыслообразующими словами, нам нужно удалить из текста все то, что не несет особого значения. \n",
    "\n",
    "Для удобства библиотека NLTK предоставляет список неинформативных слов (обычно они называются stopwords), а в модуле string есть список знаков препинания - их можно легко найти и удалить из текста."
   ]
  },
  {
   "cell_type": "code",
   "execution_count": 41,
   "id": "bf2fe233",
   "metadata": {},
   "outputs": [
    {
     "name": "stdout",
     "output_type": "stream",
     "text": [
      "Вот все знаки препинания, которые могут встретиться в тексте: ! \" # $ % & ' ( ) * + , - . / : ; < = > ? @ [ \\ ] ^ _ ` { | } ~\n",
      "------------------------------\n",
      "Вот все stopwords для англйского языка: i, me, my, myself, we, our, ours, ourselves, you, you're, you've, you'll, you'd, your, yours, yourself, yourselves, he, him, his, himself, she, she's, her, hers, herself, it, it's, its, itself, they, them, their, theirs, themselves, what, which, who, whom, this, that, that'll, these, those, am, is, are, was, were, be, been, being, have, has, had, having, do, does, did, doing, a, an, the, and, but, if, or, because, as, until, while, of, at, by, for, with, about, against, between, into, through, during, before, after, above, below, to, from, up, down, in, out, on, off, over, under, again, further, then, once, here, there, when, where, why, how, all, any, both, each, few, more, most, other, some, such, no, nor, not, only, own, same, so, than, too, very, s, t, can, will, just, don, don't, should, should've, now, d, ll, m, o, re, ve, y, ain, aren, aren't, couldn, couldn't, didn, didn't, doesn, doesn't, hadn, hadn't, hasn, hasn't, haven, haven't, isn, isn't, ma, mightn, mightn't, mustn, mustn't, needn, needn't, shan, shan't, shouldn, shouldn't, wasn, wasn't, weren, weren't, won, won't, wouldn, wouldn't\n"
     ]
    }
   ],
   "source": [
    "from string import punctuation \n",
    "from nltk.corpus import stopwords\n",
    "\n",
    "print(f\"Вот все знаки препинания, которые могут встретиться в тексте: {' '.join(punctuation)}\")\n",
    "print('-'*30)\n",
    "#Очевидно, в каждом языке свои stopwords; мы работаем с английскими текстами, поэтому явно указываем язык в методе\n",
    "no_inf = stopwords.words('english')  \n",
    "print(f\"Вот все stopwords для англйского языка: {', '.join(no_inf)}\")"
   ]
  },
  {
   "cell_type": "markdown",
   "id": "3341154b",
   "metadata": {},
   "source": [
    "Теперь проведем эксперимент: сравним длину исходного текста, текста без знаков препинания и текста без знаков препинания и стопслов."
   ]
  },
  {
   "cell_type": "code",
   "execution_count": 43,
   "id": "c2f7fb88",
   "metadata": {},
   "outputs": [
    {
     "name": "stdout",
     "output_type": "stream",
     "text": [
      "Длина всего текста равна 44764; длина текста без пунктуации равна 38499; длина текста без пунктуации и стоп-слов равна 20587.\n",
      "Тогда процент пунктуации в тексте равен 14.0, процент пунктуации и стопслов равен 54.01\n"
     ]
    }
   ],
   "source": [
    "no_punct = [word for word in text3 if word not in punctuation] \n",
    "no_stopwords = [word for word in no_punct if word not in no_inf] \n",
    "print(f\"Длина всего текста равна {len(text3)}; длина текста без пунктуации равна {len(no_punct)}; длина текста без пунктуации и стоп-слов равна {len(no_stopwords)}.\")\n",
    "print(f\"Тогда процент пунктуации в тексте равен {round((1-len(no_punct)/len(text3))*100, 2)}, процент пунктуации и стопслов равен {round((1-len(no_stopwords)/len(text3))*100, 2)}\")"
   ]
  },
  {
   "cell_type": "markdown",
   "id": "252be97b",
   "metadata": {},
   "source": [
    "Видим, что неинформативные слова и знаки препинания составляют более половины данного текста. Значит, убрав их, мы примерно вдвое сократим объем данных для дальнешего анализа - круто!"
   ]
  },
  {
   "cell_type": "markdown",
   "id": "119708e5",
   "metadata": {},
   "source": [
    "### Коллокации и н-граммы "
   ]
  },
  {
   "cell_type": "markdown",
   "id": "02a8147e",
   "metadata": {},
   "source": [
    "Помимо разбиения текста по словам и предложениям, иногда удобно работать с устойчивыми, часто встречающимися словосочетаниями - коллокациями. Чтобы получить список коллокаций в тексте, достаточно применить к нему одномменный метод:"
   ]
  },
  {
   "cell_type": "code",
   "execution_count": 44,
   "id": "546f0aad",
   "metadata": {},
   "outputs": [
    {
     "name": "stdout",
     "output_type": "stream",
     "text": [
      "said unto; pray thee; thou shalt; thou hast; thy seed; years old;\n",
      "spake unto; thou art; LORD God; every living; God hath; begat sons;\n",
      "seven years; shalt thou; little ones; living creature; creeping thing;\n",
      "savoury meat; thirty years; every beast\n"
     ]
    }
   ],
   "source": [
    "text3.collocations()"
   ]
  },
  {
   "cell_type": "markdown",
   "id": "78175c9f",
   "metadata": {},
   "source": [
    "Однако некоторые коллокации могли быть упущены из-за измененных форм слова. Давайте это исправим, приведя слова к начальной форме с помощью лемматизации (о ней будет подробно рассказано в последующих разделах). Мы заметим, что наборы коллокаций действительно поменялись: после лемматизации одна и та же коллокация в разных числах/временах/и т.д. была приведена к единой форме, из-за чего частота вхождения некоторых устойчивых фраз возросла, и они \"поднялись в общем рейтинге\" коллокаций."
   ]
  },
  {
   "cell_type": "code",
   "execution_count": 45,
   "id": "7b798641",
   "metadata": {},
   "outputs": [
    {
     "name": "stdout",
     "output_type": "stream",
     "text": [
      "said unto; pray thee; thou shalt; thou hast; thy seed; spake unto;\n",
      "year old; thou art; LORD God; thy servant; every living; God hath;\n",
      "creeping thing; seven year; shalt thou; thy brother; living creature;\n",
      "savoury meat; burnt offering; ill favoured\n"
     ]
    }
   ],
   "source": [
    "from nltk.stem import WordNetLemmatizer\n",
    "get_lemma = WordNetLemmatizer()\n",
    "text3_lemmatized = [get_lemma.lemmatize(x) for x in text3] #Меняем каждое слово на его лемму - универсальную начальную форму\n",
    "text3_lemmatized_new = nltk.Text(text3_lemmatized) #Меняем тип объекта на Text, т.к. у него есть метод collocations\n",
    "text3_lemmatized_new.collocations()"
   ]
  },
  {
   "cell_type": "markdown",
   "id": "7388a878",
   "metadata": {},
   "source": [
    "Иногда в NLP удобно разбивать текст на словосочетания с фиксированным количеством слов - так называемые н-граммы. Так, биграммы - словосочетания из 2 подряд идущих слов, триграммы - из 3, квадрограммы - из 4 и т.д. NLTK предоставляет удобный инструмент и для такого разбиения текстов: методы BigramCollocationFinder, TrigramCollocationFinder, QuadgramsCollocationFinder в модуле collocations."
   ]
  },
  {
   "cell_type": "code",
   "execution_count": 47,
   "id": "cefe1ce3",
   "metadata": {},
   "outputs": [
    {
     "data": {
      "text/plain": [
       "[(('of', 'the'), 373),\n",
       " (('and', 'the'), 359),\n",
       " (('and', 'he'), 338),\n",
       " (('in', 'the'), 296),\n",
       " (('said', 'unto'), 179),\n",
       " (('the', 'lord'), 160),\n",
       " (('the', 'land'), 157),\n",
       " (('and', 'they'), 144),\n",
       " (('he', 'said'), 115),\n",
       " (('all', 'the'), 110)]"
      ]
     },
     "execution_count": 47,
     "metadata": {},
     "output_type": "execute_result"
    }
   ],
   "source": [
    "#Чтобы не получать н-граммы со знаками препинания вроде \", or\", \". However\", \"and now\", \"And now\"\n",
    "#лучше использовать текст, очищенный от пунктуации и приведенный к единому регистру.\n",
    "no_punct = [word.lower() for word in text3 if word not in punctuation] \n",
    "\n",
    "find2 = nltk.collocations.BigramCollocationFinder.from_words(no_punct) #Делим текст на биграммы\n",
    "find2.ngram_fd.most_common(10) #Выводим 10 самых часты биграмм"
   ]
  },
  {
   "cell_type": "code",
   "execution_count": 48,
   "id": "677626d5",
   "metadata": {},
   "outputs": [
    {
     "data": {
      "text/plain": [
       "[(('the', 'land', 'of'), 102),\n",
       " (('and', 'he', 'said'), 100),\n",
       " (('the', 'sons', 'of'), 74),\n",
       " (('in', 'the', 'land'), 68),\n",
       " (('it', 'came', 'to'), 63),\n",
       " (('came', 'to', 'pass'), 63),\n",
       " (('and', 'it', 'came'), 62),\n",
       " (('the', 'earth', 'and'), 52),\n",
       " (('and', 'the', 'lord'), 46),\n",
       " (('and', 'i', 'will'), 46)]"
      ]
     },
     "execution_count": 48,
     "metadata": {},
     "output_type": "execute_result"
    }
   ],
   "source": [
    "find3 = nltk.collocations.TrigramCollocationFinder.from_words(no_punct) #Делим текст на триграммы\n",
    "find3.ngram_fd.most_common(10) #Выводим 10 самых часты триграмм"
   ]
  },
  {
   "cell_type": "code",
   "execution_count": 49,
   "id": "d988b16c",
   "metadata": {},
   "outputs": [
    {
     "data": {
      "text/plain": [
       "[(('it', 'came', 'to', 'pass'), 63),\n",
       " (('and', 'it', 'came', 'to'), 62),\n",
       " (('in', 'the', 'land', 'of'), 53),\n",
       " (('the', 'land', 'of', 'egypt'), 34),\n",
       " (('the', 'land', 'of', 'canaan'), 32),\n",
       " (('and', 'the', 'sons', 'of'), 29),\n",
       " (('the', 'name', 'of', 'the'), 22),\n",
       " (('came', 'to', 'pass', 'when'), 22),\n",
       " (('and', 'he', 'said', 'unto'), 20),\n",
       " (('land', 'of', 'canaan', 'and'), 18)]"
      ]
     },
     "execution_count": 49,
     "metadata": {},
     "output_type": "execute_result"
    }
   ],
   "source": [
    "find4 = nltk.collocations.QuadgramCollocationFinder.from_words(no_punct) #Делим текст на квадрограммы\n",
    "find4.ngram_fd.most_common(10) #Выводим 10 самых часты квадрограмм"
   ]
  },
  {
   "cell_type": "markdown",
   "id": "edee9c3f",
   "metadata": {},
   "source": [
    "### Визуализация"
   ]
  },
  {
   "cell_type": "markdown",
   "id": "a4c82b99",
   "metadata": {},
   "source": [
    "Казалось бы, NLTK - библиотека для работы с текстом, и графических представлений тут особо не построишь... Одако это не так: для обработки естественного языка графики бывают очень полезны. \n",
    "\n",
    "Например, метод dispersion_plot строит по заданному набору слов расположение каждого из них в тексте. По горизонтальной оси мы видим количесиво слов в тексте, а по вертикальной - все заданные слова. Вхождение слова в текст обозначается вертикальной засечкой: если продолжить ее до пересечения  горизонтальной осью, то получим примерный индекс слова в тексте. Чем больше засечек, тем чаще слово встречается в тексте."
   ]
  },
  {
   "cell_type": "code",
   "execution_count": 50,
   "id": "426e8187",
   "metadata": {},
   "outputs": [
    {
     "data": {
      "image/png": "[encoded data removed]",
      "text/plain": [
       "<Figure size 640x480 with 1 Axes>"
      ]
     },
     "metadata": {},
     "output_type": "display_data"
    }
   ],
   "source": [
    "text2.dispersion_plot([\"sister\", \"world\", \"house\", \"man\", \"life\", \"morning\", \"walk\"])"
   ]
  },
  {
   "cell_type": "markdown",
   "id": "b4060556",
   "metadata": {},
   "source": [
    "А с помощью методов plot и FreqDist можно построить линейные графики: кумулятивный и обычный. Для каждого из выбранных слов они показывают, сколько раз оно встретилось в тексте суммарно."
   ]
  },
  {
   "cell_type": "code",
   "execution_count": 52,
   "id": "b2400d1b",
   "metadata": {},
   "outputs": [],
   "source": [
    "conceptual_words=[x.lower() for x in text2 if not (x in no_inf or x in punctuation)]\n",
    "conceptual_words=FreqDist(conceptual_words)"
   ]
  },
  {
   "cell_type": "code",
   "execution_count": 56,
   "id": "306cf2aa",
   "metadata": {},
   "outputs": [
    {
     "data": {
      "image/png": "[encoded data removed]",
      "text/plain": [
       "<Figure size 640x480 with 1 Axes>"
      ]
     },
     "metadata": {},
     "output_type": "display_data"
    },
    {
     "data": {
      "text/plain": [
       "<AxesSubplot:xlabel='Samples', ylabel='Cumulative Counts'>"
      ]
     },
     "execution_count": 56,
     "metadata": {},
     "output_type": "execute_result"
    }
   ],
   "source": [
    "conceptual_words.plot(30, cumulative=True) #Явно указываем количество слов, для которых строим график, и тип графика"
   ]
  },
  {
   "cell_type": "code",
   "execution_count": 57,
   "id": "bb20e5c7",
   "metadata": {},
   "outputs": [
    {
     "data": {
      "image/png": "[encoded data removed]",
      "text/plain": [
       "<Figure size 640x480 with 1 Axes>"
      ]
     },
     "metadata": {},
     "output_type": "display_data"
    },
    {
     "data": {
      "text/plain": [
       "<AxesSubplot:xlabel='Samples', ylabel='Counts'>"
      ]
     },
     "execution_count": 57,
     "metadata": {},
     "output_type": "execute_result"
    }
   ],
   "source": [
    "conceptual_words.plot(30)"
   ]
  },
  {
   "cell_type": "markdown",
   "id": "b75160db",
   "metadata": {},
   "source": [
    "### Приведение слов к \"начальной\" форме: стемминг и лемматизация"
   ]
  },
  {
   "cell_type": "markdown",
   "id": "e606e555",
   "metadata": {},
   "source": [
    "Пунктуация и стоп-слова - это еще полбеды: в разных языках существительные изменяются по падежам и числам, прилагательные - по числам и родам, глаголы - по лицам, родам и временам... Все эти различные формы слова несут один и тот же смысл, поэтому удобно привести их всех к некоторой единой одной форме - назовем ее \"начальной\".\n",
    "\n",
    "Для этого есть вда основных подхода - это стемминг и лемматизация. Стемминг заключается в нахождении основы слова (она не всегда совпадает с корнем слова). Стемминг - это более грубый процесс, который отсекает от слова целые морфемы, что иногда приводит к утрате смысла слова. [Например, есть алгоритмы отсечения окончаний, которые гласят: если слова заканчивается на ing/ed/ly, то это окончание и его нужно удалить. Но как быть со словами sing, bed, fly? Отсечение этих буквосочетаний уничтожит их смысл.]\n",
    "\n",
    "Лематизация заключается в приведении слова к его словарной форме. Лемматизация ссылается на словарные статьи, учитывает морфологические особенности и зачастую выдает более точную и полнозначную \"начальную\" форму слова.\n",
    "\n",
    "Инструменты для стемминга и лемматизации находятся в модуле nltk.stem. "
   ]
  },
  {
   "cell_type": "markdown",
   "id": "559e4057",
   "metadata": {},
   "source": [
    "Три основных стеммера - это Porter stemmer, Snowball syemmer, Lancaster stemmer. Первые два придуманы М.Ф. Портером (Snowball stemmer - это улучшенный Porter stemmer), второй - в университете Ланкастер. Porter stemmer и Lancaster stemmer поддерживают только английский язык, а Snowball stemmer - еще арабский, датский, немецкий, французский, итальянский и др. Lancaster stemmer наиболее \"аггрессивный\" и зачастую удаляет нужные части слова. \n",
    "\n",
    "Посмотрим на работу всех трех стеммеров на одном и том же наборе слов в разнообразных формах."
   ]
  },
  {
   "cell_type": "code",
   "execution_count": 60,
   "id": "8baa9239",
   "metadata": {},
   "outputs": [
    {
     "name": "stdout",
     "output_type": "stream",
     "text": [
      "Word - Porter - Snowball - Lancaster\n",
      "----------------------------------------\n",
      "being - be - be - being\n",
      "abaci - abaci - abaci - abac\n",
      "rocks - rock - rock - rock\n",
      "corpora - corpora - corpora - corpor\n",
      "better - better - better - bet\n",
      "churches - church - church - church\n",
      "mice - mice - mice - mic\n",
      "do - do - do - do\n",
      "phones - phone - phone - phon\n",
      "busy - busi - busi - busy\n",
      "are - are - are - ar\n",
      "Japanese - japanes - japanes - japanes\n",
      "very - veri - veri - very\n",
      "peace - peac - peac - peac\n",
      "thought - thought - thought - thought\n",
      "does - doe - doe - doe\n",
      "says - say - say - say\n",
      "photoes - photo - photo - photo\n",
      "played - play - play - play\n",
      "pieces - piec - piec - piec\n"
     ]
    }
   ],
   "source": [
    "from nltk.stem.porter import PorterStemmer\n",
    "from nltk.stem.snowball import SnowballStemmer\n",
    "from nltk.stem.lancaster import LancasterStemmer\n",
    "porter = PorterStemmer()\n",
    "snowball=SnowballStemmer(language='english')\n",
    "lancaster=LancasterStemmer()\n",
    "\n",
    "wordlist=['being', 'abaci', 'rocks', 'corpora', 'better', 'churches', 'mice', 'do', 'phones', 'busy', 'are', 'Japanese', 'very', 'peace', 'thought', 'does', 'says', 'photoes', 'played', 'pieces']\n",
    "\n",
    "#words = ['is', 'are', 'bought', 'buys', 'giving', 'jumps', 'jumped', 'birds', 'do', 'does', 'did', 'doing']\n",
    "print('Word - Porter - Snowball - Lancaster')\n",
    "print('-'*40)\n",
    "for x in wordlist:\n",
    "    print(f\"{x} - {porter.stem(x)} - {snowball.stem(x)} - {lancaster.stem(x)}\")"
   ]
  },
  {
   "cell_type": "markdown",
   "id": "3b23971c",
   "metadata": {},
   "source": [
    "Видим, что стемминг в целом справляется со своей задачей, однако иногда \"откусывает\" нужные, несущие смысл части слов (особенно это видно по работе Lancaster stemmer). Теперь для того же набора слов проведем лемматизацию и сравним результаты.\n",
    "\n",
    "Заметим, что для повышения качества лемматизации дополнительно можно указывать часть речи слова с помощью строкового параметра pos в методе lemmatize."
   ]
  },
  {
   "cell_type": "code",
   "execution_count": 61,
   "id": "003c52ad",
   "metadata": {},
   "outputs": [
    {
     "name": "stdout",
     "output_type": "stream",
     "text": [
      "Word - Lemmatization result\n",
      "------------------------------\n",
      "being - being\n",
      "abaci - abacus\n",
      "rocks - rock\n",
      "corpora - corpus\n",
      "better - better\n",
      "churches - church\n",
      "mice - mouse\n",
      "do - do\n",
      "phones - phone\n",
      "busy - busy\n",
      "are - are\n",
      "Japanese - Japanese\n",
      "very - very\n",
      "peace - peace\n",
      "thought - thought\n",
      "does - doe\n",
      "says - say\n",
      "photoes - photoes\n",
      "played - played\n",
      "pieces - piece\n"
     ]
    }
   ],
   "source": [
    "from nltk.stem import WordNetLemmatizer\n",
    "get_lemma = WordNetLemmatizer()\n",
    "wordlist=['being', 'abaci', 'rocks', 'corpora', 'better', 'churches', 'mice', 'do', 'phones', 'busy', 'are', 'Japanese', 'very', 'peace', 'thought', 'does', 'says', 'photoes', 'played', 'pieces']\n",
    "print('Word - Lemmatization result')\n",
    "print('-'*30)\n",
    "for x in wordlist:\n",
    "    print(f\"{x} - {get_lemma.lemmatize(x)}\")"
   ]
  },
  {
   "cell_type": "markdown",
   "id": "c0049c14",
   "metadata": {},
   "source": [
    "Итак, лемматизация - это действительно более тонкий инструмент, который учитывает часть речи и заметно точнее указывает начальную форму слова."
   ]
  },
  {
   "cell_type": "markdown",
   "id": "29c2954e",
   "metadata": {},
   "source": [
    "### Векторизация"
   ]
  },
  {
   "cell_type": "markdown",
   "id": "2fbbc359",
   "metadata": {},
   "source": [
    "Наконец, мы переходим к более интересным вещам. Вот мы загрузили свой документ или взяли готовый из корпуса, посчитали количество слов и частоту их встречаемости, поделили текст на токены, почистили от лишних слов и символов, привели к начальной форме... И что? Как компьютер поймет его смысл? Как сгенерирует наилучший ответ на основе вопроса пользователя? Как сделает вывод о типе и тематике текста?\n",
    "\n",
    "Очевидно, компьютер не \"понимает\" значение текстов в том смсыле, в котором их понимает человек. Компьютер же ориентируется на численные показатели семантической близости текстов. Но чтобы из текста каким-то волшебным образом получить числа, слова в нем нужно векторизовать.\n",
    "\n",
    "Один из часто используемых методов векторизации - это Word2Vec (здесь надо сделать оговорку, что этот инструмент придажлежит библиотеке gensim, а не NLTK; однако представление текста в векторной форме важно для изучения следующих разделов библиотеки NLTK, поэтому мы посмотрим на него тоже).\n",
    "\n",
    "Вообще говоря, Word2Vec - это название целого набора моделей, использующих нейронные сети для контекстного анализа слов в документе. Word2Vec из gensim принимает в качестве параметра некоторый текст и сопоставляет каждому (уникальному) слову свой вектор в векторном пространстве, опираясь на следующее правило: чем чаще слова встречаются в одном и том же контексте в документе, тем ближе должны быть их итоговые векторы.\n",
    "\n",
    "Векторизованные слова обычно называют эмбеддингами. Также векторизовать можно целые документы - например, с помощью Doc2Vec."
   ]
  },
  {
   "cell_type": "code",
   "execution_count": 62,
   "id": "e00d4252",
   "metadata": {},
   "outputs": [
    {
     "name": "stdout",
     "output_type": "stream",
     "text": [
      "Мы можем увидеть вектор, который был сопоставлен любому слову в тексте - например, слову THOUGHT:\n",
      "[-0.12401176  0.34205142  0.02047736  0.01460694  0.1305043  -0.38757122\n",
      "  0.19528039  0.43390396 -0.22567241 -0.16239616 -0.10096042 -0.34524623\n",
      " -0.04676763  0.05046663  0.00668189 -0.00626312 -0.05355979 -0.20696382\n",
      " -0.09548388 -0.4313899   0.14531171  0.2807315   0.08030538 -0.21597596\n",
      "  0.07163231 -0.00278536 -0.07979615 -0.19383514 -0.1511012  -0.11449516\n",
      "  0.1915908   0.06024997  0.12155108 -0.23146693 -0.2143387   0.42194813\n",
      "  0.19666362 -0.03826691 -0.09244616 -0.4178354  -0.00436224 -0.22180724\n",
      " -0.19484134 -0.02971346  0.2719413  -0.18199843 -0.32540962 -0.09272275\n",
      "  0.05642148  0.04309639  0.06941379 -0.07967489 -0.08207686 -0.00418801\n",
      " -0.10253427 -0.04615429  0.03005918 -0.22369868 -0.2647439   0.0782177\n",
      "  0.14708376  0.02586345  0.09983345 -0.1560923  -0.15316501  0.09959264\n",
      " -0.00844824  0.31614238 -0.4228098   0.12171629 -0.20205714  0.344029\n",
      "  0.21436359 -0.00539999  0.33355343  0.07791723  0.05621775 -0.2679855\n",
      " -0.34050706  0.08179285  0.01623354 -0.2220362  -0.33491543  0.25633323\n",
      " -0.00161406 -0.19588321  0.2035284   0.20626438  0.2571769   0.12351987\n",
      "  0.13626494  0.29920995  0.19608328  0.22501014  0.57964784  0.23173904\n",
      " -0.0465808  -0.09985001  0.12932353 -0.04411485]\n",
      "------------------------------\n",
      "Также мы можем увидеть слова, которые встречаются в одном контексте с данным словом чаще всего.\n",
      "Значения, идущие в парах после слов - это косинусы углов между соответствующими парами векторизованных слов.\n",
      "[('such', 0.9992949962615967), ('to', 0.999289333820343), ('not', 0.9992575645446777), ('so', 0.9992514252662659), ('his', 0.9992091655731201), (';', 0.9992031455039978), ('by', 0.9992004632949829), ('as', 0.9991902112960815), ('but', 0.9991886019706726), ('it', 0.9991840720176697)]\n"
     ]
    }
   ],
   "source": [
    "from gensim.models import Word2Vec\n",
    "alice_w2v = Word2Vec(gutenberg.sents('carroll-alice.txt'))\n",
    "print(\"Мы можем увидеть вектор, который был сопоставлен любому слову в тексте - например, слову THOUGHT:\")\n",
    "print(alice_w2v.wv[\"thought\"])\n",
    "print('-'*30)\n",
    "print(\"Также мы можем увидеть слова, которые встречаются в одном контексте с данным словом чаще всего.\")\n",
    "print(\"Значения, идущие в парах после слов - это косинусы углов между соответствующими парами векторизованных слов.\")\n",
    "print(alice_w2v.wv.most_similar('thought', topn=10))"
   ]
  },
  {
   "cell_type": "markdown",
   "id": "a54ead0c",
   "metadata": {},
   "source": [
    "### Кластеризация"
   ]
  },
  {
   "cell_type": "markdown",
   "id": "b9d31c43",
   "metadata": {},
   "source": [
    "Кластеризация в общем смысле этого слова - это разбиение некоторого множества объектов на группы (кластеры) по определенному признаку так, чтобы все объекты одной группы были максимально близки друг с другом по данному признаку. Учитывая, что мы умеем векторизовать слова и тексты, кластеризация без проблем осуществляется с помощью математических (а не чисто лингвистических) средств.\n",
    "\n",
    "Один из способов кластеризации - это кластеризация К-средних (K-means clustering). При таком подходе алгоритм начинается с выбора К произвольных средних (они еще называются центроидами), затем каждый вектор определяется в группу с наиболее близким средним. Далее, исходя из фактических групп векторов, средние пересчитываются, и векторы могут перегруппироваться. Алгоритм продолжается до тех пор, пока группы векторов не станут стабильными (неизменными). [Альтернативно можно не указывать изначальные центроиды, а указать количество повторений алгоритма, и функция сама рассчитает средние.]\n",
    "\n",
    "Рассмотрим числовой двумерный пример, чтобы мы легко могли нарисовать итоговые кластеры на плоскости."
   ]
  },
  {
   "cell_type": "code",
   "execution_count": 63,
   "id": "ff3d559b",
   "metadata": {},
   "outputs": [
    {
     "name": "stdout",
     "output_type": "stream",
     "text": [
      "k-means trial 0\n",
      "iteration\n",
      "iteration\n",
      "iteration\n",
      "iteration\n",
      "iteration\n",
      "iteration\n",
      "iteration\n",
      "iteration\n",
      "iteration\n",
      "iteration\n",
      "iteration\n",
      "iteration\n",
      "iteration\n",
      "--------------------------------------------------\n",
      "Полученное разбиеие векторов по кластерам:\n",
      "Векторы [array([9, 4]), array([12,  6]), array([11,  2])] были определены в кластер 0 со средним [10.66666667  4.        ]\n",
      "Векторы [array([-1, -1]), array([-2, -2]), array([-3, -3]), array([ 3, -4])] были определены в кластер 1 со средним [-0.75 -2.5 ]\n",
      "Векторы [array([-1,  6]), array([-2,  3])] были определены в кластер 2 со средним [-1.50000031  4.50000031]\n"
     ]
    }
   ],
   "source": [
    "from nltk.cluster import KMeansClusterer, euclidean_distance, cosine_distance\n",
    "import numpy as np\n",
    "import matplotlib.pyplot as plt\n",
    "\n",
    "nums=[-1, -1, 9, 4, -1, 6, 12, 6, -2, -2, -2, 3, -3, -3, 11, 2, 3, -4]\n",
    "init_vecs=[]\n",
    "for i in range(len(nums)//2):\n",
    "    init_vecs.append(np.array([nums[2*i], nums[2*i+1]]))\n",
    "\n",
    "centers=[[11, 4], [-2, -2], [-2, 5]]\n",
    "\n",
    "#Создаем кластеризатор: задаем желаемое количесиво кластеров, метрику (евклидово расстояние или косинусное расстояние), \n",
    "#вектор изначальных центроидов (или количество повторений)\n",
    "kmeans_clust1 = KMeansClusterer(3, euclidean_distance, initial_means=centers, avoid_empty_clusters=True)\n",
    "result1 = kmeans_clust1.cluster(init_vecs, True, trace=True)\n",
    "fin_means1=kmeans_clust1.means()\n",
    "\n",
    "print('-'*50)\n",
    "print(\"Полученное разбиеие векторов по кластерам:\")\n",
    "division1=[[], [], []]\n",
    "for i in range(len(init_vecs)):\n",
    "    division1[result1[i]].append(init_vecs[i])\n",
    "for i in range(3):\n",
    "    print(f\"Векторы {division1[i]} были определены в кластер {i} со средним {fin_means1[i]}\")"
   ]
  },
  {
   "cell_type": "code",
   "execution_count": 64,
   "id": "33d05f2a",
   "metadata": {},
   "outputs": [
    {
     "name": "stdout",
     "output_type": "stream",
     "text": [
      "k-means trial 0\n",
      "iteration\n",
      "iteration\n",
      "iteration\n",
      "iteration\n",
      "iteration\n",
      "iteration\n",
      "iteration\n",
      "k-means trial 1\n",
      "iteration\n",
      "k-means trial 2\n",
      "iteration\n",
      "iteration\n",
      "iteration\n",
      "iteration\n",
      "iteration\n",
      "iteration\n",
      "iteration\n",
      "iteration\n",
      "iteration\n",
      "iteration\n",
      "k-means trial 3\n",
      "iteration\n",
      "iteration\n",
      "iteration\n",
      "iteration\n",
      "k-means trial 4\n",
      "iteration\n",
      "iteration\n",
      "iteration\n",
      "iteration\n",
      "iteration\n",
      "iteration\n",
      "iteration\n",
      "iteration\n",
      "k-means trial 5\n",
      "iteration\n",
      "iteration\n",
      "iteration\n",
      "iteration\n",
      "iteration\n",
      "iteration\n",
      "iteration\n",
      "iteration\n",
      "k-means trial 6\n",
      "iteration\n",
      "iteration\n",
      "iteration\n",
      "iteration\n",
      "iteration\n",
      "iteration\n",
      "k-means trial 7\n",
      "iteration\n",
      "iteration\n",
      "iteration\n",
      "iteration\n",
      "iteration\n",
      "iteration\n",
      "k-means trial 8\n",
      "iteration\n",
      "iteration\n",
      "iteration\n",
      "iteration\n",
      "iteration\n",
      "iteration\n",
      "k-means trial 9\n",
      "iteration\n",
      "iteration\n",
      "iteration\n",
      "iteration\n",
      "iteration\n",
      "iteration\n",
      "--------------------------------------------------\n",
      "Полученное разбиеие векторов по кластерам:\n",
      "Векторы [array([-1, -1]), array([-2, -2]), array([-3, -3])] были определены в кластер 0 со средним [-2. -2.]\n",
      "Векторы [array([-1,  6]), array([-2,  3])] были определены в кластер 1 со средним [-1.49691358  4.50034294]\n",
      "Векторы [array([9, 4]), array([12,  6]), array([11,  2]), array([ 3, -4])] были определены в кластер 2 со средним [8.7499904 1.9999936]\n"
     ]
    }
   ],
   "source": [
    "#Теперь в качестве метрики возьмем cosine_distance, и не будем указывать первоначальные средние\n",
    "\n",
    "kmeans_clust2 = KMeansClusterer(3, cosine_distance, repeats=10, avoid_empty_clusters=True)\n",
    "result2 = kmeans_clust2.cluster(init_vecs, True, trace=True)\n",
    "fin_means2=kmeans_clust2.means()\n",
    "\n",
    "print('-'*50)\n",
    "print(\"Полученное разбиеие векторов по кластерам:\")\n",
    "division2=[[], [], []]\n",
    "for i in range(len(init_vecs)):\n",
    "    division2[result2[i]].append(init_vecs[i])\n",
    "for i in range(3):\n",
    "    print(f\"Векторы {division2[i]} были определены в кластер {i} со средним {fin_means2[i]}\")"
   ]
  },
  {
   "cell_type": "markdown",
   "id": "0e736f42",
   "metadata": {},
   "source": [
    "Видим, что кластеризация без первоначальных средних требует больше итераций. Кроме того, итоговые результаты различаются. Визуализируем их на графиках. "
   ]
  },
  {
   "cell_type": "code",
   "execution_count": 67,
   "id": "1cc96ee5",
   "metadata": {},
   "outputs": [
    {
     "data": {
      "image/png": "[encoded data removed]",
      "text/plain": [
       "<Figure size 2000x600 with 2 Axes>"
      ]
     },
     "metadata": {},
     "output_type": "display_data"
    }
   ],
   "source": [
    "fig = plt.figure(figsize=(20, 6)) \n",
    "\n",
    "plt.subplot(121)\n",
    "zero_x1 = list([x[0] for x in division1[0]])\n",
    "zero_y1 = list([x[1] for x in division1[0]])\n",
    "\n",
    "one_x1 = list([x[0] for x in division1[1]])\n",
    "one_y1 = list([x[1] for x in division1[1]])\n",
    "\n",
    "two_x1 = list([x[0] for x in division1[2]])\n",
    "two_y1 = list([x[1] for x in division1[2]])\n",
    "\n",
    "means_x1 = list([x[0] for x in fin_means1])\n",
    "means_y1 = list([x[1] for x in fin_means1])\n",
    "\n",
    "plt.scatter(zero_x1, zero_y1, color='orange')\n",
    "plt.scatter(one_x1, one_y1, color='magenta')\n",
    "plt.scatter(two_x1, two_y1, color='blue')\n",
    "plt.scatter(means_x1, means_y1, color='black')\n",
    "plt.grid()\n",
    "\n",
    "plt.subplot(122)\n",
    "zero_x2 = list([x[0] for x in division2[0]])\n",
    "zero_y2 = list([x[1] for x in division2[0]])\n",
    "\n",
    "one_x2 = list([x[0] for x in division2[1]])\n",
    "one_y2 = list([x[1] for x in division2[1]])\n",
    "\n",
    "two_x2 = list([x[0] for x in division2[2]])\n",
    "two_y2 = list([x[1] for x in division2[2]])\n",
    "\n",
    "means_x2 = list([x[0] for x in fin_means2])\n",
    "means_y2 = list([x[1] for x in fin_means2])\n",
    "\n",
    "plt.scatter(zero_x2, zero_y2, color='orange')\n",
    "plt.scatter(one_x2, one_y2, color='magenta')\n",
    "plt.scatter(two_x2, two_y2, color='blue')\n",
    "plt.scatter(means_x2, means_y2, color='black')\n",
    "plt.grid()\n",
    "\n",
    "plt.show()"
   ]
  },
  {
   "cell_type": "markdown",
   "id": "fec7848f",
   "metadata": {},
   "source": [
    "Как видно по графикам, два способа кластеризации привели к двум разным делениям на кластеры с различными средними.\n",
    "\n",
    "Помимо K-means clustering, также существуют:\n",
    "\n",
    "1) GAAC clustering: он воспринимает каждый вектор из набора как отдельный кластер; затем последовательно объединяет пары кластеров с ближайшими средними\n",
    "\n",
    "2) Gaussian EM clustering: он использует метод максимизации матожидания: алгоритм начинается с выбора некоторых средних, исходных вероятностей и ковариационных матриц. Далее высчитываются вероятности принадлежности каждого вектора к каждому из кластеров, и затем с использованием метода максимального правдоподобия и этих вероятностей параметры кластера (среднее, вероятности принадлежности векторов, ковариационные матрицы) пересчитываются. Алгоритм повторяется до тех пор, пока вероятности не стабилизируются."
   ]
  },
  {
   "cell_type": "markdown",
   "id": "5952c9a4",
   "metadata": {},
   "source": [
    "### Sentiment analysis "
   ]
  },
  {
   "cell_type": "markdown",
   "id": "24575f8d",
   "metadata": {},
   "source": [
    "Одна из задач NLP - это анализ эмоциональной окраски текста (например, для автоматического определения положителен или отрицателен отзыв на товар/фильм, для фильтрации комментариев в соцсетях и т.д.). Библиотека NLTK предлагает готовое решение для данной задачи - предобученная модель, которая принимает на вход отрывок текста и определяет его эмоциональную окраску. В результате работы метода polarity_scores мы получаем 4 значения: neg, neu, pos - вероятности того, что текст имеет орицательную, нейтральную или положительную эмоциональную окраску соответственно; эти параметры принимают значения от 0 до 1 и суммируются в единицу. Также есть 4-й параметр compound, который принимает значени от -1 до 1: чем отрицательнее compound, тем негативнее текст и наоборот.\n",
    "\n",
    "В качестве примера проведем sentiment analysis для 9 предложений из nltk.book."
   ]
  },
  {
   "cell_type": "code",
   "execution_count": 16,
   "id": "7b11fad5",
   "metadata": {},
   "outputs": [
    {
     "name": "stdout",
     "output_type": "stream",
     "text": [
      "Call me Ishmael . --> {'neg': 0.0, 'neu': 1.0, 'pos': 0.0, 'compound': 0.0}\n",
      "The family of Dashwood had long been settled in Sussex . --> {'neg': 0.0, 'neu': 1.0, 'pos': 0.0, 'compound': 0.0}\n",
      "In the beginning God created the heaven and the earth . --> {'neg': 0.0, 'neu': 0.486, 'pos': 0.514, 'compound': 0.7506}\n",
      "Fellow - Citizens of the Senate and of the House of Representatives : --> {'neg': 0.0, 'neu': 1.0, 'pos': 0.0, 'compound': 0.0}\n",
      "I have a problem with people PMing me to lol JOIN --> {'neg': 0.187, 'neu': 0.416, 'pos': 0.397, 'compound': 0.4648}\n",
      "SCENE 1 : [ wind ] [ clop clop clop ] KING ARTHUR : Whoa there ! --> {'neg': 0.0, 'neu': 1.0, 'pos': 0.0, 'compound': 0.0}\n",
      "Pierre Vinken , 61 years old , will join the board as a nonexecutive director Nov. 29 . --> {'neg': 0.0, 'neu': 0.855, 'pos': 0.145, 'compound': 0.296}\n",
      "25 SEXY MALE , seeks attrac older single lady , for discreet encounters . --> {'neg': 0.0, 'neu': 0.708, 'pos': 0.292, 'compound': 0.6289}\n",
      "THE suburb of Saffron Park lay on the sunset side of London , as red and ragged as a cloud of sunset . --> {'neg': 0.0, 'neu': 1.0, 'pos': 0.0, 'compound': 0.0}\n"
     ]
    }
   ],
   "source": [
    "from nltk.sentiment import SentimentIntensityAnalyzer\n",
    "sents=[sent1, sent2, sent3, sent4, sent5, sent6, sent7, sent8, sent9]\n",
    "sia = SentimentIntensityAnalyzer()\n",
    "for x in sents:\n",
    "    print(f\"{' '.join(x)} --> {sia.polarity_scores(' '.join(x))}\") "
   ]
  },
  {
   "cell_type": "markdown",
   "id": "09109bab",
   "metadata": {},
   "source": [
    "### Классификация"
   ]
  },
  {
   "cell_type": "markdown",
   "id": "2b8c65ee",
   "metadata": {},
   "source": [
    "Задача классификации в определенной степени связана с задачей кластеризации. Классификация может использоваться в очень многих задачах NLP: от определения пола по имени человека до установления автора литературного произведения и определения темы новостей.\n",
    "\n",
    "В nltk.classify есть несколько моделей машинного обучения, которые могут классифицировать тексты после предварительного обученния. Среди таких моделей: BinaryMaxentFeatureEncoding, MaxentClassifier, NaiveBayesClassifier, SklearnClassifier и др. Каждый из них имеет специфичную сигнатуру и лучше работает на разных радачах. Мы рассмотрим один из базовых классификаторов - NaiveBayesClassifier.\n",
    "\n",
    "Такой классификатор принимает на вход размеченный датасет: список из пар вида (векторное представление текста, лейбл). Следовательно, нам потребуется функция, векторизующая любой текст по определенному алгоритму. На данном этапе мы уже сами придумаем эту функцию и пропишем алгоритм, выделив ключевые (по нашему мнению) характеристики текстов для определения их класса. \n",
    "\n",
    "Мы будем тренировать модель на датасете movie_reviews: в нем содержатся отзывы на фильмы и настроение этого отзыва (pos-positive/neg-negative). "
   ]
  },
  {
   "cell_type": "code",
   "execution_count": 38,
   "id": "caccc4d0",
   "metadata": {},
   "outputs": [],
   "source": [
    "from nltk.corpus import movie_reviews\n",
    "from string import punctuation \n",
    "from nltk.corpus import stopwords\n",
    "import random\n",
    "no_inf = stopwords.words('english')  \n",
    "\n",
    "#Заметим, что в корпусе с отзывами сначала идут только отрицательные отзывы, а потом только положительные\n",
    "#Значит, нам надо перемешать все отзывы, чтобы исключить влияние порядка на результат.\n",
    "\n",
    "shuff_fileids=movie_reviews.fileids()\n",
    "random.shuffle(shuff_fileids)\n",
    "    \n",
    "#Почистим отзывы от знаков препинания и неинформативных слов    \n",
    "rev_no_punct = [w for w in movie_reviews.words() if not w in punctuation]\n",
    "rev_no_stopwords=[w.lower() for w in rev_no_punct if not w in no_inf]\n",
    "\n",
    "#В отдельный список поместим 1000 наиболее часто встречаемых слов в тексте\n",
    "rev_most_common = list(nltk.FreqDist(rev_no_stopwords))[:1000]\n",
    "\n",
    "#Создадим словарь из пар вида (айди отзыва, его настроение)\n",
    "#Корпус довольно большой, и нам вполне хватит его половины, т.е. 1000 из 2000 отзывов\n",
    "tagged_reviews=dict()\n",
    "for fileid in shuff_fileids[:1000]:\n",
    "    tagged_reviews[fileid]=fileid[:3]"
   ]
  },
  {
   "cell_type": "code",
   "execution_count": 39,
   "id": "f6790323",
   "metadata": {},
   "outputs": [],
   "source": [
    "#Напишем функцию, которая будет векторизовать отзывы: для каждого слова из rev_most_common она проверяет, есть ли данное\n",
    "#слово в тексте отзыва; если есть, то по соответствующему ключу в словаре помещаем 1, иначе 0\n",
    "#В результате каждый отзыв представляется в виде двоичного вектора длины 1000\n",
    "def markuper(review): \n",
    "    result = dict()\n",
    "    for word in rev_most_common:\n",
    "        result[f'contains({word})'] = 1 if word in review else 0\n",
    "    return result"
   ]
  },
  {
   "cell_type": "code",
   "execution_count": 40,
   "id": "61f3b467",
   "metadata": {},
   "outputs": [],
   "source": [
    "#Создаем размеченный датасет: для каждого отзыва из выбранной половины создаем пару (векторизованный отзыв, лейбл), и кладем в список\n",
    "#Эта функция работает довольно долго, но она работает :)\n",
    "rev_markedup=[]\n",
    "for fileid in tagged_reviews.keys():\n",
    "    cur_rev_marked=markuper(movie_reviews.words(fileid))\n",
    "    rev_markedup.append((cur_rev_marked, tagged_reviews[fileid]))"
   ]
  },
  {
   "cell_type": "code",
   "execution_count": 41,
   "id": "bc07cb44",
   "metadata": {},
   "outputs": [
    {
     "data": {
      "text/plain": [
       "({'contains(film)': 1,\n",
       "  'contains(one)': 1,\n",
       "  'contains(movie)': 1,\n",
       "  'contains(like)': 1,\n",
       "  'contains(even)': 1,\n",
       "  'contains(good)': 1,\n",
       "  'contains(time)': 1,\n",
       "  'contains(story)': 0,\n",
       "  'contains(would)': 1,\n",
       "  'contains(much)': 1,\n",
       "  'contains(character)': 0,\n",
       "  'contains(also)': 0,\n",
       "  'contains(get)': 0,\n",
       "  'contains(two)': 1,\n",
       "  'contains(well)': 0,\n",
       "  'contains(characters)': 1,\n",
       "  'contains(first)': 0,\n",
       "  'contains(--)': 1,\n",
       "  'contains(see)': 0,\n",
       "  'contains(way)': 1,\n",
       "  'contains(make)': 0,\n",
       "  'contains(life)': 1,\n",
       "  'contains(really)': 1,\n",
       "  'contains(films)': 1,\n",
       "  'contains(plot)': 1,\n",
       "  'contains(little)': 0,\n",
       "  'contains(people)': 1,\n",
       "  'contains(could)': 0,\n",
       "  'contains(scene)': 1,\n",
       "  'contains(man)': 0,\n",
       "  'contains(bad)': 0,\n",
       "  'contains(never)': 1,\n",
       "  'contains(best)': 1,\n",
       "  'contains(new)': 0,\n",
       "  'contains(scenes)': 0,\n",
       "  'contains(many)': 0,\n",
       "  'contains(director)': 0,\n",
       "  'contains(know)': 0,\n",
       "  'contains(movies)': 1,\n",
       "  'contains(action)': 0,\n",
       "  'contains(great)': 0,\n",
       "  'contains(another)': 0,\n",
       "  'contains(love)': 0,\n",
       "  'contains(go)': 0,\n",
       "  'contains(made)': 0,\n",
       "  'contains(us)': 0,\n",
       "  'contains(big)': 0,\n",
       "  'contains(end)': 0,\n",
       "  'contains(something)': 0,\n",
       "  'contains(back)': 0,\n",
       "  'contains(still)': 0,\n",
       "  'contains(world)': 1,\n",
       "  'contains(seems)': 1,\n",
       "  'contains(work)': 0,\n",
       "  'contains(makes)': 1,\n",
       "  'contains(however)': 0,\n",
       "  'contains(every)': 0,\n",
       "  'contains(though)': 0,\n",
       "  'contains(better)': 1,\n",
       "  'contains(real)': 1,\n",
       "  'contains(audience)': 0,\n",
       "  'contains(enough)': 1,\n",
       "  'contains(seen)': 0,\n",
       "  'contains(take)': 1,\n",
       "  'contains(around)': 0,\n",
       "  'contains(going)': 0,\n",
       "  'contains(year)': 0,\n",
       "  'contains(performance)': 0,\n",
       "  'contains(role)': 1,\n",
       "  'contains(old)': 0,\n",
       "  'contains(gets)': 0,\n",
       "  'contains(may)': 0,\n",
       "  'contains(things)': 0,\n",
       "  'contains(think)': 0,\n",
       "  'contains(years)': 1,\n",
       "  'contains(last)': 0,\n",
       "  'contains(comedy)': 1,\n",
       "  'contains(funny)': 1,\n",
       "  'contains(actually)': 0,\n",
       "  'contains(long)': 0,\n",
       "  'contains(look)': 0,\n",
       "  'contains(almost)': 0,\n",
       "  'contains(thing)': 0,\n",
       "  'contains(fact)': 0,\n",
       "  'contains(nothing)': 0,\n",
       "  'contains(say)': 0,\n",
       "  'contains(john)': 0,\n",
       "  'contains(right)': 0,\n",
       "  'contains(although)': 0,\n",
       "  'contains(played)': 1,\n",
       "  'contains(find)': 0,\n",
       "  'contains(script)': 0,\n",
       "  'contains(come)': 0,\n",
       "  'contains(ever)': 0,\n",
       "  'contains(cast)': 0,\n",
       "  'contains(since)': 1,\n",
       "  'contains(star)': 1,\n",
       "  'contains(plays)': 1,\n",
       "  'contains(young)': 1,\n",
       "  'contains(show)': 1,\n",
       "  'contains(comes)': 0,\n",
       "  'contains(part)': 0,\n",
       "  'contains(original)': 1,\n",
       "  'contains(actors)': 0,\n",
       "  'contains(screen)': 0,\n",
       "  'contains(without)': 1,\n",
       "  'contains(three)': 1,\n",
       "  'contains(acting)': 0,\n",
       "  'contains(day)': 0,\n",
       "  'contains(point)': 0,\n",
       "  'contains(lot)': 0,\n",
       "  'contains(least)': 0,\n",
       "  'contains(takes)': 1,\n",
       "  'contains(guy)': 0,\n",
       "  'contains(quite)': 0,\n",
       "  'contains(away)': 0,\n",
       "  'contains(family)': 0,\n",
       "  'contains(effects)': 0,\n",
       "  'contains(course)': 1,\n",
       "  'contains(goes)': 0,\n",
       "  'contains(minutes)': 1,\n",
       "  'contains(interesting)': 0,\n",
       "  'contains(far)': 0,\n",
       "  'contains(might)': 0,\n",
       "  'contains(high)': 0,\n",
       "  'contains(rather)': 0,\n",
       "  'contains(anything)': 1,\n",
       "  'contains(must)': 0,\n",
       "  'contains(place)': 1,\n",
       "  'contains(set)': 0,\n",
       "  'contains(yet)': 1,\n",
       "  'contains(watch)': 0,\n",
       "  'contains(making)': 1,\n",
       "  'contains(wife)': 1,\n",
       "  'contains(hard)': 0,\n",
       "  'contains(always)': 0,\n",
       "  'contains(fun)': 0,\n",
       "  'contains(seem)': 0,\n",
       "  'contains(special)': 0,\n",
       "  'contains(times)': 1,\n",
       "  'contains(bit)': 0,\n",
       "  'contains(trying)': 1,\n",
       "  'contains(hollywood)': 0,\n",
       "  'contains(instead)': 0,\n",
       "  'contains(give)': 0,\n",
       "  'contains(want)': 0,\n",
       "  'contains(picture)': 0,\n",
       "  'contains(american)': 0,\n",
       "  'contains(kind)': 0,\n",
       "  'contains(job)': 0,\n",
       "  'contains(sense)': 0,\n",
       "  'contains(woman)': 0,\n",
       "  'contains(home)': 0,\n",
       "  'contains(series)': 0,\n",
       "  'contains(actor)': 0,\n",
       "  'contains(probably)': 0,\n",
       "  'contains(help)': 0,\n",
       "  'contains(half)': 0,\n",
       "  'contains(along)': 0,\n",
       "  'contains(men)': 0,\n",
       "  'contains(everything)': 0,\n",
       "  'contains(pretty)': 0,\n",
       "  'contains(becomes)': 0,\n",
       "  'contains(sure)': 0,\n",
       "  'contains(black)': 0,\n",
       "  'contains(together)': 1,\n",
       "  'contains(dialogue)': 0,\n",
       "  'contains(money)': 0,\n",
       "  'contains(become)': 0,\n",
       "  'contains(gives)': 0,\n",
       "  'contains(given)': 0,\n",
       "  'contains(looking)': 1,\n",
       "  'contains(whole)': 0,\n",
       "  'contains(watching)': 0,\n",
       "  'contains(father)': 0,\n",
       "  'contains(feel)': 0,\n",
       "  'contains(everyone)': 1,\n",
       "  'contains(music)': 0,\n",
       "  'contains(wants)': 1,\n",
       "  'contains(sex)': 1,\n",
       "  'contains(less)': 0,\n",
       "  'contains(done)': 0,\n",
       "  'contains(horror)': 0,\n",
       "  'contains(got)': 0,\n",
       "  'contains(death)': 0,\n",
       "  'contains(perhaps)': 0,\n",
       "  'contains(city)': 0,\n",
       "  'contains(next)': 0,\n",
       "  'contains(especially)': 1,\n",
       "  'contains(play)': 0,\n",
       "  'contains(girl)': 0,\n",
       "  'contains(mind)': 0,\n",
       "  'contains(10)': 0,\n",
       "  'contains(moments)': 0,\n",
       "  'contains(looks)': 0,\n",
       "  'contains(completely)': 0,\n",
       "  'contains(2)': 0,\n",
       "  'contains(mother)': 0,\n",
       "  'contains(reason)': 0,\n",
       "  'contains(whose)': 1,\n",
       "  'contains(night)': 0,\n",
       "  'contains(line)': 0,\n",
       "  'contains(human)': 0,\n",
       "  'contains(performances)': 1,\n",
       "  'contains(rest)': 0,\n",
       "  'contains(different)': 0,\n",
       "  'contains(evil)': 1,\n",
       "  'contains(small)': 0,\n",
       "  'contains(james)': 0,\n",
       "  'contains(simply)': 0,\n",
       "  'contains(couple)': 0,\n",
       "  'contains(put)': 0,\n",
       "  'contains(let)': 0,\n",
       "  'contains(anyone)': 0,\n",
       "  'contains(ending)': 0,\n",
       "  'contains(case)': 0,\n",
       "  'contains(several)': 1,\n",
       "  'contains(dead)': 0,\n",
       "  'contains(michael)': 0,\n",
       "  'contains(thought)': 0,\n",
       "  'contains(left)': 0,\n",
       "  'contains(school)': 0,\n",
       "  'contains(shows)': 1,\n",
       "  'contains(humor)': 1,\n",
       "  'contains(true)': 0,\n",
       "  'contains(friend)': 0,\n",
       "  'contains(lost)': 0,\n",
       "  'contains(written)': 0,\n",
       "  'contains(entire)': 0,\n",
       "  'contains(getting)': 0,\n",
       "  'contains(town)': 0,\n",
       "  'contains(turns)': 0,\n",
       "  'contains(soon)': 0,\n",
       "  'contains(someone)': 0,\n",
       "  'contains(second)': 0,\n",
       "  'contains(stars)': 0,\n",
       "  'contains(main)': 0,\n",
       "  'contains(use)': 1,\n",
       "  'contains(found)': 0,\n",
       "  'contains(friends)': 0,\n",
       "  'contains(problem)': 0,\n",
       "  'contains(tv)': 0,\n",
       "  'contains(top)': 0,\n",
       "  'contains(name)': 0,\n",
       "  'contains(begins)': 0,\n",
       "  'contains(called)': 0,\n",
       "  'contains(comic)': 1,\n",
       "  'contains(based)': 0,\n",
       "  'contains(david)': 0,\n",
       "  'contains(head)': 0,\n",
       "  'contains(else)': 0,\n",
       "  'contains(either)': 1,\n",
       "  'contains(idea)': 0,\n",
       "  'contains(wrong)': 0,\n",
       "  'contains(unfortunately)': 1,\n",
       "  'contains(later)': 0,\n",
       "  'contains(final)': 0,\n",
       "  'contains(hand)': 0,\n",
       "  'contains(alien)': 0,\n",
       "  'contains(house)': 0,\n",
       "  'contains(group)': 0,\n",
       "  'contains(full)': 0,\n",
       "  'contains(used)': 0,\n",
       "  'contains(tries)': 0,\n",
       "  'contains(often)': 0,\n",
       "  'contains(war)': 0,\n",
       "  'contains(sequence)': 0,\n",
       "  'contains(keep)': 1,\n",
       "  'contains(turn)': 1,\n",
       "  'contains(playing)': 0,\n",
       "  'contains(named)': 0,\n",
       "  'contains(boy)': 0,\n",
       "  'contains(behind)': 0,\n",
       "  'contains(live)': 0,\n",
       "  'contains(certainly)': 0,\n",
       "  'contains(believe)': 0,\n",
       "  'contains(relationship)': 0,\n",
       "  'contains(works)': 0,\n",
       "  'contains(face)': 0,\n",
       "  'contains(hour)': 0,\n",
       "  'contains(run)': 0,\n",
       "  'contains(style)': 0,\n",
       "  'contains(said)': 0,\n",
       "  'contains(person)': 0,\n",
       "  'contains(despite)': 0,\n",
       "  'contains(finally)': 0,\n",
       "  'contains(shot)': 0,\n",
       "  'contains(book)': 0,\n",
       "  'contains(tell)': 0,\n",
       "  'contains(maybe)': 1,\n",
       "  'contains(nice)': 0,\n",
       "  'contains(perfect)': 0,\n",
       "  'contains(son)': 0,\n",
       "  'contains(side)': 0,\n",
       "  'contains(seeing)': 1,\n",
       "  'contains(able)': 0,\n",
       "  'contains(finds)': 0,\n",
       "  'contains(days)': 1,\n",
       "  'contains(past)': 0,\n",
       "  'contains(children)': 0,\n",
       "  'contains(summer)': 0,\n",
       "  'contains(camera)': 0,\n",
       "  'contains(including)': 0,\n",
       "  'contains(mr)': 0,\n",
       "  'contains(kids)': 0,\n",
       "  'contains(lives)': 0,\n",
       "  'contains(directed)': 0,\n",
       "  'contains(moment)': 0,\n",
       "  'contains(game)': 0,\n",
       "  'contains(fight)': 1,\n",
       "  'contains(running)': 0,\n",
       "  'contains(supposed)': 0,\n",
       "  'contains(video)': 0,\n",
       "  'contains(car)': 0,\n",
       "  'contains(joe)': 0,\n",
       "  'contains(matter)': 0,\n",
       "  'contains(kevin)': 0,\n",
       "  'contains(lines)': 0,\n",
       "  'contains(worth)': 0,\n",
       "  'contains(daughter)': 0,\n",
       "  'contains(earth)': 0,\n",
       "  'contains(need)': 0,\n",
       "  'contains(starts)': 0,\n",
       "  'contains(white)': 0,\n",
       "  'contains(entertaining)': 0,\n",
       "  'contains(start)': 0,\n",
       "  'contains(writer)': 0,\n",
       "  'contains(dark)': 0,\n",
       "  'contains(short)': 1,\n",
       "  'contains(self)': 0,\n",
       "  'contains(worst)': 0,\n",
       "  'contains(nearly)': 1,\n",
       "  'contains(try)': 0,\n",
       "  'contains(upon)': 0,\n",
       "  'contains(opening)': 0,\n",
       "  'contains(care)': 0,\n",
       "  'contains(violence)': 0,\n",
       "  'contains(early)': 0,\n",
       "  'contains(throughout)': 0,\n",
       "  'contains(team)': 0,\n",
       "  'contains(production)': 0,\n",
       "  'contains(example)': 0,\n",
       "  'contains(beautiful)': 0,\n",
       "  'contains(title)': 0,\n",
       "  'contains(jack)': 0,\n",
       "  'contains(exactly)': 0,\n",
       "  'contains(major)': 0,\n",
       "  'contains(review)': 0,\n",
       "  'contains(drama)': 0,\n",
       "  'contains(sequences)': 0,\n",
       "  'contains(problems)': 0,\n",
       "  'contains(version)': 1,\n",
       "  'contains(screenplay)': 0,\n",
       "  'contains(obvious)': 0,\n",
       "  'contains(known)': 0,\n",
       "  'contains(robert)': 0,\n",
       "  'contains(killer)': 0,\n",
       "  'contains(disney)': 0,\n",
       "  'contains(classic)': 0,\n",
       "  'contains(close)': 0,\n",
       "  'contains(already)': 0,\n",
       "  'contains(others)': 0,\n",
       "  'contains(kill)': 0,\n",
       "  'contains(hit)': 0,\n",
       "  'contains(deep)': 0,\n",
       "  'contains(act)': 0,\n",
       "  'contains(five)': 0,\n",
       "  'contains(fine)': 0,\n",
       "  'contains(order)': 0,\n",
       "  'contains(simple)': 0,\n",
       "  'contains(heart)': 0,\n",
       "  'contains(roles)': 0,\n",
       "  'contains(direction)': 0,\n",
       "  'contains(jackie)': 0,\n",
       "  'contains(eyes)': 0,\n",
       "  'contains(four)': 0,\n",
       "  'contains(question)': 1,\n",
       "  'contains(sort)': 0,\n",
       "  'contains(knows)': 0,\n",
       "  'contains(sometimes)': 0,\n",
       "  'contains(supporting)': 0,\n",
       "  'contains(women)': 0,\n",
       "  'contains(voice)': 0,\n",
       "  'contains(coming)': 0,\n",
       "  'contains(truly)': 0,\n",
       "  'contains(save)': 0,\n",
       "  'contains(computer)': 0,\n",
       "  'contains(jokes)': 0,\n",
       "  'contains(child)': 1,\n",
       "  'contains(boring)': 0,\n",
       "  'contains(tom)': 0,\n",
       "  'contains(level)': 0,\n",
       "  'contains(1)': 0,\n",
       "  'contains(body)': 0,\n",
       "  'contains(strong)': 1,\n",
       "  'contains(stop)': 1,\n",
       "  'contains(brother)': 0,\n",
       "  'contains(room)': 0,\n",
       "  'contains(genre)': 0,\n",
       "  'contains(guys)': 0,\n",
       "  'contains(space)': 0,\n",
       "  'contains(ends)': 0,\n",
       "  'contains(lee)': 0,\n",
       "  'contains(beginning)': 0,\n",
       "  'contains(ship)': 0,\n",
       "  'contains(york)': 0,\n",
       "  'contains(attempt)': 0,\n",
       "  'contains(thriller)': 0,\n",
       "  'contains(scream)': 0,\n",
       "  'contains(peter)': 0,\n",
       "  'contains(husband)': 0,\n",
       "  'contains(happens)': 0,\n",
       "  'contains(hero)': 0,\n",
       "  'contains(fiction)': 0,\n",
       "  'contains(novel)': 0,\n",
       "  'contains(note)': 0,\n",
       "  'contains(hope)': 0,\n",
       "  'contains(king)': 0,\n",
       "  'contains(yes)': 0,\n",
       "  'contains(says)': 0,\n",
       "  'contains(tells)': 0,\n",
       "  'contains(quickly)': 0,\n",
       "  'contains(romantic)': 0,\n",
       "  'contains(dog)': 0,\n",
       "  'contains(oscar)': 0,\n",
       "  'contains(stupid)': 1,\n",
       "  'contains(saw)': 0,\n",
       "  'contains(possible)': 0,\n",
       "  'contains(career)': 1,\n",
       "  'contains(lead)': 0,\n",
       "  'contains(murder)': 0,\n",
       "  'contains(manages)': 0,\n",
       "  'contains(extremely)': 0,\n",
       "  'contains(god)': 0,\n",
       "  'contains(wonder)': 0,\n",
       "  'contains(mostly)': 0,\n",
       "  'contains(particularly)': 0,\n",
       "  'contains(future)': 0,\n",
       "  'contains(fans)': 0,\n",
       "  'contains(sound)': 0,\n",
       "  'contains(worse)': 0,\n",
       "  'contains(involving)': 0,\n",
       "  'contains(de)': 0,\n",
       "  'contains(piece)': 0,\n",
       "  'contains(involved)': 1,\n",
       "  'contains(paul)': 0,\n",
       "  'contains(planet)': 0,\n",
       "  'contains(appears)': 0,\n",
       "  'contains(laugh)': 0,\n",
       "  'contains(taking)': 0,\n",
       "  'contains(mean)': 0,\n",
       "  'contains(none)': 0,\n",
       "  'contains(hours)': 0,\n",
       "  'contains(co)': 0,\n",
       "  'contains(sets)': 0,\n",
       "  'contains(attention)': 0,\n",
       "  'contains(police)': 0,\n",
       "  'contains(eventually)': 0,\n",
       "  'contains(hell)': 0,\n",
       "  'contains(fall)': 0,\n",
       "  'contains(falls)': 0,\n",
       "  'contains(material)': 0,\n",
       "  'contains(single)': 0,\n",
       "  'contains(emotional)': 0,\n",
       "  'contains(power)': 0,\n",
       "  'contains(late)': 0,\n",
       "  'contains(dr)': 1,\n",
       "  'contains(lack)': 1,\n",
       "  'contains(van)': 0,\n",
       "  'contains(result)': 0,\n",
       "  'contains(meet)': 0,\n",
       "  'contains(smith)': 0,\n",
       "  'contains(elements)': 0,\n",
       "  'contains(wild)': 1,\n",
       "  'contains(experience)': 0,\n",
       "  'contains(bring)': 0,\n",
       "  'contains(science)': 0,\n",
       "  'contains(theater)': 0,\n",
       "  'contains(living)': 0,\n",
       "  'contains(interest)': 0,\n",
       "  'contains(word)': 0,\n",
       "  'contains(leads)': 0,\n",
       "  'contains(feature)': 1,\n",
       "  'contains(battle)': 0,\n",
       "  'contains(girls)': 0,\n",
       "  'contains(alone)': 0,\n",
       "  'contains(obviously)': 1,\n",
       "  'contains(george)': 0,\n",
       "  'contains(enjoy)': 0,\n",
       "  'contains(within)': 0,\n",
       "  'contains(usually)': 0,\n",
       "  'contains(among)': 0,\n",
       "  'contains(guess)': 0,\n",
       "  'contains(laughs)': 1,\n",
       "  'contains(feeling)': 0,\n",
       "  'contains(taken)': 0,\n",
       "  'contains(aliens)': 0,\n",
       "  'contains(talk)': 0,\n",
       "  'contains(talent)': 1,\n",
       "  'contains(chance)': 0,\n",
       "  'contains(3)': 0,\n",
       "  'contains(easy)': 0,\n",
       "  'contains(middle)': 0,\n",
       "  'contains(number)': 0,\n",
       "  'contains(across)': 0,\n",
       "  'contains(attempts)': 0,\n",
       "  'contains(needs)': 0,\n",
       "  'contains(happen)': 0,\n",
       "  'contains(television)': 0,\n",
       "  'contains(chris)': 0,\n",
       "  'contains(form)': 0,\n",
       "  'contains(poor)': 0,\n",
       "  'contains(deal)': 0,\n",
       "  'contains(release)': 0,\n",
       "  'contains(girlfriend)': 0,\n",
       "  'contains(forced)': 0,\n",
       "  'contains(viewer)': 0,\n",
       "  'contains(killed)': 0,\n",
       "  'contains(wonderful)': 0,\n",
       "  'contains(whether)': 0,\n",
       "  'contains(except)': 1,\n",
       "  'contains(features)': 1,\n",
       "  'contains(tale)': 0,\n",
       "  'contains(light)': 0,\n",
       "  'contains(oh)': 0,\n",
       "  'contains(feels)': 0,\n",
       "  'contains(serious)': 0,\n",
       "  'contains(premise)': 0,\n",
       "  'contains(expect)': 0,\n",
       "  'contains(success)': 0,\n",
       "  'contains(important)': 0,\n",
       "  'contains(words)': 0,\n",
       "  'contains(meets)': 0,\n",
       "  'contains(happy)': 0,\n",
       "  'contains(leave)': 0,\n",
       "  'contains(history)': 0,\n",
       "  'contains(released)': 0,\n",
       "  'contains(parents)': 0,\n",
       "  'contains(impressive)': 0,\n",
       "  'contains(giving)': 0,\n",
       "  'contains(call)': 0,\n",
       "  'contains(turned)': 0,\n",
       "  'contains(art)': 0,\n",
       "  'contains(type)': 0,\n",
       "  'contains(crew)': 0,\n",
       "  'contains(working)': 0,\n",
       "  'contains(mission)': 0,\n",
       "  'contains(score)': 0,\n",
       "  'contains(seemed)': 0,\n",
       "  'contains(told)': 0,\n",
       "  'contains(entertainment)': 1,\n",
       "  'contains(robin)': 0,\n",
       "  'contains(recent)': 0,\n",
       "  'contains(america)': 0,\n",
       "  'contains(basically)': 0,\n",
       "  'contains(surprise)': 0,\n",
       "  'contains(easily)': 0,\n",
       "  'contains(ryan)': 0,\n",
       "  'contains(apparently)': 0,\n",
       "  'contains(crime)': 0,\n",
       "  'contains(cool)': 0,\n",
       "  'contains(office)': 0,\n",
       "  'contains(williams)': 0,\n",
       "  'contains(cop)': 0,\n",
       "  'contains(change)': 0,\n",
       "  'contains(stuff)': 0,\n",
       "  'contains(somehow)': 0,\n",
       "  'contains(parts)': 0,\n",
       "  'contains(sequel)': 0,\n",
       "  'contains(cut)': 0,\n",
       "  'contains(william)': 0,\n",
       "  'contains(die)': 1,\n",
       "  'contains(jones)': 0,\n",
       "  'contains(credits)': 0,\n",
       "  'contains(batman)': 0,\n",
       "  'contains(suspense)': 0,\n",
       "  'contains(brings)': 0,\n",
       "  'contains(local)': 0,\n",
       "  'contains(reality)': 0,\n",
       "  'contains(events)': 0,\n",
       "  'contains(hilarious)': 1,\n",
       "  'contains(went)': 0,\n",
       "  'contains(near)': 0,\n",
       "  'contains(talking)': 0,\n",
       "  'contains(difficult)': 0,\n",
       "  'contains(using)': 0,\n",
       "  'contains(remember)': 0,\n",
       "  'contains(writing)': 0,\n",
       "  'contains(straight)': 0,\n",
       "  'contains(ben)': 1,\n",
       "  'contains(ago)': 0,\n",
       "  'contains(certain)': 0,\n",
       "  'contains(kid)': 0,\n",
       "  'contains(blood)': 0,\n",
       "  'contains(slow)': 0,\n",
       "  'contains(mystery)': 0,\n",
       "  'contains(complete)': 0,\n",
       "  'contains(popular)': 0,\n",
       "  'contains(red)': 0,\n",
       "  'contains(effective)': 0,\n",
       "  'contains(fast)': 0,\n",
       "  'contains(runs)': 0,\n",
       "  'contains(due)': 0,\n",
       "  'contains(flick)': 0,\n",
       "  'contains(quality)': 0,\n",
       "  'contains(gone)': 0,\n",
       "  'contains(presence)': 0,\n",
       "  'contains(return)': 0,\n",
       "  'contains(dramatic)': 0,\n",
       "  'contains(brothers)': 0,\n",
       "  'contains(age)': 0,\n",
       "  'contains(filmmakers)': 0,\n",
       "  'contains(general)': 0,\n",
       "  'contains(business)': 0,\n",
       "  'contains(rock)': 0,\n",
       "  'contains(present)': 0,\n",
       "  'contains(sexual)': 0,\n",
       "  'contains(surprisingly)': 0,\n",
       "  'contains(anyway)': 0,\n",
       "  'contains(uses)': 0,\n",
       "  'contains(smart)': 0,\n",
       "  'contains(personal)': 0,\n",
       "  'contains(figure)': 0,\n",
       "  'contains(4)': 0,\n",
       "  'contains(begin)': 0,\n",
       "  'contains(annoying)': 0,\n",
       "  'contains(decides)': 0,\n",
       "  'contains(ways)': 0,\n",
       "  'contains(somewhat)': 0,\n",
       "  'contains(shots)': 0,\n",
       "  'contains(rich)': 0,\n",
       "  'contains(minute)': 1,\n",
       "  'contains(law)': 0,\n",
       "  'contains(successful)': 1,\n",
       "  'contains(similar)': 1,\n",
       "  'contains(harry)': 0,\n",
       "  'contains(previous)': 0,\n",
       "  'contains(former)': 0,\n",
       "  'contains(motion)': 0,\n",
       "  'contains(jim)': 0,\n",
       "  'contains(absolutely)': 0,\n",
       "  'contains(water)': 0,\n",
       "  'contains(came)': 0,\n",
       "  'contains(read)': 0,\n",
       "  'contains(follow)': 0,\n",
       "  'contains(million)': 0,\n",
       "  'contains(project)': 0,\n",
       "  'contains(strange)': 0,\n",
       "  'contains(familiar)': 0,\n",
       "  'contains(amazing)': 0,\n",
       "  'contains(clear)': 0,\n",
       "  'contains(starring)': 0,\n",
       "  'contains(excellent)': 0,\n",
       "  'contains(intelligent)': 0,\n",
       "  'contains(secret)': 0,\n",
       "  'contains(third)': 0,\n",
       "  'contains(romance)': 0,\n",
       "  'contains(latest)': 0,\n",
       "  'contains(prison)': 0,\n",
       "  'contains(company)': 0,\n",
       "  'contains(means)': 0,\n",
       "  'contains(budget)': 0,\n",
       "  'contains(eye)': 0,\n",
       "  'contains(actress)': 0,\n",
       "  'contains(party)': 0,\n",
       "  'contains(powerful)': 0,\n",
       "  'contains(predictable)': 0,\n",
       "  'contains(towards)': 0,\n",
       "  'contains(bob)': 0,\n",
       "  'contains(leaves)': 1,\n",
       "  'contains(visual)': 0,\n",
       "  'contains(beyond)': 0,\n",
       "  'contains(nature)': 0,\n",
       "  'contains(following)': 0,\n",
       "  'contains(r)': 0,\n",
       "  'contains(villain)': 0,\n",
       "  'contains(leaving)': 0,\n",
       "  'contains(wars)': 0,\n",
       "  'contains(animated)': 0,\n",
       "  'contains(bill)': 0,\n",
       "  'contains(b)': 0,\n",
       "  'contains(filled)': 0,\n",
       "  'contains(sam)': 0,\n",
       "  'contains(low)': 0,\n",
       "  'contains(country)': 1,\n",
       "  'contains(cinema)': 0,\n",
       "  'contains(box)': 0,\n",
       "  'contains(message)': 0,\n",
       "  'contains(moving)': 0,\n",
       "  'contains(questions)': 0,\n",
       "  'contains(large)': 1,\n",
       "  'contains(create)': 0,\n",
       "  'contains(clever)': 0,\n",
       "  'contains(add)': 0,\n",
       "  'contains(martin)': 0,\n",
       "  'contains(definitely)': 0,\n",
       "  'contains(usual)': 0,\n",
       "  'contains(murphy)': 0,\n",
       "  'contains(brilliant)': 0,\n",
       "  'contains(ones)': 0,\n",
       "  'contains(situation)': 0,\n",
       "  'contains(felt)': 0,\n",
       "  'contains(stories)': 0,\n",
       "  'contains(giant)': 0,\n",
       "  'contains(opens)': 1,\n",
       "  'contains(break)': 0,\n",
       "  'contains(scary)': 0,\n",
       "  'contains(doubt)': 0,\n",
       "  'contains(drug)': 0,\n",
       "  'contains(solid)': 0,\n",
       "  'contains(thinking)': 0,\n",
       "  'contains(bunch)': 0,\n",
       "  'contains(effect)': 0,\n",
       "  'contains(learn)': 0,\n",
       "  'contains(move)': 0,\n",
       "  'contains(force)': 0,\n",
       "  'contains(seriously)': 0,\n",
       "  'contains(potential)': 0,\n",
       "  'contains(saying)': 0,\n",
       "  'contains(follows)': 0,\n",
       "  'contains(plan)': 1,\n",
       "  'contains(huge)': 0,\n",
       "  'contains(class)': 0,\n",
       "  'contains(agent)': 1,\n",
       "  'contains(created)': 0,\n",
       "  'contains(unlike)': 0,\n",
       "  'contains(sweet)': 1,\n",
       "  'contains(married)': 0,\n",
       "  'contains(perfectly)': 0,\n",
       "  'contains(mark)': 0,\n",
       "  'contains(pay)': 0,\n",
       "  'contains(non)': 0,\n",
       "  'contains(audiences)': 0,\n",
       "  'contains(realize)': 0,\n",
       "  'contains(ex)': 0,\n",
       "  'contains(subject)': 1,\n",
       "  'contains(decent)': 1,\n",
       "  'contains(likely)': 0,\n",
       "  'contains(enjoyable)': 0,\n",
       "  'contains(dream)': 0,\n",
       "  'contains(took)': 0,\n",
       "  'contains(view)': 0,\n",
       "  'contains(scott)': 0,\n",
       "  'contains(happened)': 0,\n",
       "  'contains(understand)': 0,\n",
       "  'contains(cameron)': 0,\n",
       "  'contains(e)': 0,\n",
       "  'contains(open)': 0,\n",
       "  'contains(points)': 0,\n",
       "  'contains(viewers)': 0,\n",
       "  'contains(heard)': 0,\n",
       "  'contains(studio)': 0,\n",
       "  'contains(immediately)': 0,\n",
       "  'contains(truman)': 0,\n",
       "  'contains(frank)': 1,\n",
       "  'contains(bruce)': 0,\n",
       "  'contains(impossible)': 0,\n",
       "  'contains(fails)': 0,\n",
       "  'contains(cold)': 0,\n",
       "  'contains(private)': 0,\n",
       "  'contains(stay)': 0,\n",
       "  'contains(richard)': 0,\n",
       "  'contains(overall)': 0,\n",
       "  'contains(exciting)': 0,\n",
       "  'contains(merely)': 0,\n",
       "  'contains(gun)': 0,\n",
       "  'contains(chase)': 0,\n",
       "  'contains(wanted)': 0,\n",
       "  'contains(appear)': 0,\n",
       "  'contains(mess)': 0,\n",
       "  'contains(neither)': 0,\n",
       "  'contains(ten)': 0,\n",
       "  'contains(free)': 0,\n",
       "  'contains(carter)': 0,\n",
       "  'contains(ultimately)': 1,\n",
       "  'contains(escape)': 0,\n",
       "  'contains(fan)': 0,\n",
       "  'contains(modern)': 0,\n",
       "  'contains(favorite)': 0,\n",
       "  'contains(inside)': 0,\n",
       "  'contains(stone)': 0,\n",
       "  'contains(trouble)': 0,\n",
       "  'contains(wedding)': 0,\n",
       "  'contains(brought)': 0,\n",
       "  'contains(trek)': 0,\n",
       "  'contains(l)': 0,\n",
       "  'contains(otherwise)': 0,\n",
       "  'contains(tim)': 0,\n",
       "  'contains(allen)': 0,\n",
       "  'contains(5)': 0,\n",
       "  'contains(society)': 0,\n",
       "  'contains(dumb)': 0,\n",
       "  'contains(liked)': 0,\n",
       "  'contains(bond)': 0,\n",
       "  'contains(musical)': 0,\n",
       "  'contains(political)': 0,\n",
       "  'contains(particular)': 0,\n",
       "  'contains(talented)': 0,\n",
       "  'contains(stand)': 0,\n",
       "  'contains(west)': 0,\n",
       "  'contains(various)': 0,\n",
       "  'contains(keeps)': 0,\n",
       "  'contains(state)': 0,\n",
       "  'contains(silly)': 1,\n",
       "  'contains(u)': 0,\n",
       "  'contains(situations)': 0,\n",
       "  'contains(english)': 0,\n",
       "  'contains(park)': 0,\n",
       "  'contains(slightly)': 0,\n",
       "  'contains(steve)': 0,\n",
       "  'contains(air)': 0,\n",
       "  'contains(truth)': 0,\n",
       "  'contains(teen)': 0,\n",
       "  'contains(rating)': 0,\n",
       "  'contains(key)': 0,\n",
       "  'contains(joke)': 0,\n",
       "  'contains(spend)': 0,\n",
       "  'contains(element)': 0,\n",
       "  'contains(effort)': 0,\n",
       "  'contains(members)': 0,\n",
       "  'contains(eddie)': 0,\n",
       "  'contains(focus)': 0,\n",
       "  'contains(government)': 0,\n",
       "  'contains(biggest)': 0,\n",
       "  'contains(today)': 1,\n",
       "  'contains(hands)': 0,\n",
       "  'contains(soundtrack)': 0,\n",
       "  'contains(earlier)': 0,\n",
       "  'contains(chan)': 0,\n",
       "  'contains(purpose)': 0,\n",
       "  'contains(cannot)': 0,\n",
       "  'contains(memorable)': 0,\n",
       "  'contains(six)': 0,\n",
       "  'contains(showing)': 0,\n",
       "  'contains(offers)': 0,\n",
       "  'contains(max)': 0,\n",
       "  'contains(rated)': 0,\n",
       "  'contains(totally)': 0,\n",
       "  'contains(heavy)': 0,\n",
       "  'contains(mars)': 0,\n",
       "  'contains(fi)': 0,\n",
       "  'contains(credit)': 0,\n",
       "  'contains(woody)': 0,\n",
       "  'contains(control)': 0,\n",
       "  'contains(wait)': 0,\n",
       "  'contains(sit)': 0,\n",
       "  'contains(sci)': 0,\n",
       "  'contains(ideas)': 0,\n",
       "  'contains(sister)': 0,\n",
       "  'contains(list)': 0,\n",
       "  'contains(female)': 0,\n",
       "  'contains(ask)': 0,\n",
       "  'contains(simon)': 0,\n",
       "  'contains(terrible)': 0,\n",
       "  'contains(mary)': 0,\n",
       "  'contains(aspect)': 0,\n",
       "  'contains(depth)': 0,\n",
       "  'contains(waste)': 0,\n",
       "  'contains(constantly)': 0,\n",
       "  'contains(fire)': 0,\n",
       "  'contains(army)': 0,\n",
       "  'contains(steven)': 0,\n",
       "  'contains(moves)': 0,\n",
       "  'contains(entirely)': 0,\n",
       "  'contains(actual)': 0,\n",
       "  'contains(british)': 0,\n",
       "  'contains(fear)': 0,\n",
       "  'contains(animation)': 0,\n",
       "  'contains(tension)': 0,\n",
       "  'contains(setting)': 0,\n",
       "  'contains(gave)': 0,\n",
       "  'contains(convincing)': 0,\n",
       "  'contains(brief)': 0,\n",
       "  'contains(street)': 0,\n",
       "  'contains(8)': 0,\n",
       "  'contains(nick)': 0,\n",
       "  'contains(ridiculous)': 0,\n",
       "  'contains(ability)': 0,\n",
       "  'contains(typical)': 0,\n",
       "  'contains(spent)': 0,\n",
       "  'contains(screenwriter)': 0,\n",
       "  'contains(cinematography)': 0,\n",
       "  'contains(violent)': 0,\n",
       "  'contains(subtle)': 0,\n",
       "  'contains(atmosphere)': 0,\n",
       "  'contains(quick)': 0,\n",
       "  'contains(tone)': 0,\n",
       "  'contains(fairly)': 0,\n",
       "  'contains(killing)': 0,\n",
       "  'contains(expected)': 0,\n",
       "  'contains(master)': 0,\n",
       "  'contains(seven)': 0,\n",
       "  'contains(background)': 0,\n",
       "  'contains(club)': 0,\n",
       "  'contains(lots)': 0,\n",
       "  'contains(suddenly)': 0,\n",
       "  'contains(song)': 0,\n",
       "  'contains(thinks)': 0,\n",
       "  'contains(willis)': 0,\n",
       "  'contains(cheap)': 0,\n",
       "  'contains(disaster)': 0,\n",
       "  'contains(complex)': 1,\n",
       "  'contains(sees)': 0,\n",
       "  'contains(greatest)': 0,\n",
       "  'contains(whatever)': 0,\n",
       "  'contains(impact)': 0,\n",
       "  'contains(highly)': 0,\n",
       "  'contains(mike)': 0,\n",
       "  'contains(front)': 0,\n",
       "  'contains(amusing)': 0,\n",
       "  'contains(indeed)': 0,\n",
       "  'contains(flat)': 0,\n",
       "  'contains(wrote)': 0,\n",
       "  'contains(ii)': 0,\n",
       "  'contains(grace)': 0,\n",
       "  'contains(humans)': 0,\n",
       "  'contains(beauty)': 0,\n",
       "  'contains(college)': 0,\n",
       "  'contains(hate)': 0,\n",
       "  'contains(plenty)': 0,\n",
       "  'contains(outside)': 0,\n",
       "  'contains(cute)': 0,\n",
       "  'contains(titanic)': 0,\n",
       "  'contains(wish)': 0,\n",
       "  'contains(dull)': 0,\n",
       "  'contains(recently)': 0,\n",
       "  'contains(minor)': 0,\n",
       "  'contains(godzilla)': 0,\n",
       "  'contains(meanwhile)': 0,\n",
       "  'contains(sounds)': 0,\n",
       "  'contains(double)': 0,\n",
       "  'contains(telling)': 0,\n",
       "  'contains(cinematic)': 0,\n",
       "  'contains(sight)': 0,\n",
       "  'contains(queen)': 0,\n",
       "  'contains(hold)': 0,\n",
       "  'contains(theme)': 0,\n",
       "  'contains(approach)': 0,\n",
       "  'contains(awful)': 0,\n",
       "  'contains(amount)': 0,\n",
       "  'contains(x)': 0,\n",
       "  'contains(baby)': 0,\n",
       "  'contains(hear)': 0,\n",
       "  'contains(clearly)': 0,\n",
       "  'contains(island)': 0,\n",
       "  'contains(reasons)': 0,\n",
       "  'contains(miss)': 0,\n",
       "  'contains(dreams)': 0,\n",
       "  'contains(charm)': 0,\n",
       "  'contains(longer)': 0,\n",
       "  'contains(shown)': 0,\n",
       "  'contains(carry)': 1,\n",
       "  'contains(believable)': 0,\n",
       "  'contains(realistic)': 0,\n",
       "  'contains(chemistry)': 0,\n",
       "  'contains(common)': 0,\n",
       "  'contains(sean)': 0,\n",
       "  'contains(casting)': 0,\n",
       "  'contains(possibly)': 0,\n",
       "  'contains(choice)': 0,\n",
       "  'contains(tough)': 0,\n",
       "  'contains(ride)': 0,\n",
       "  'contains(produced)': 0,\n",
       "  'contains(trailer)': 0,\n",
       "  'contains(french)': 0,\n",
       "  'contains(imagine)': 0,\n",
       "  'contains(carrey)': 0,\n",
       "  'contains(jerry)': 1,\n",
       "  'contains(road)': 0,\n",
       "  'contains(brown)': 0,\n",
       "  'contains(slowly)': 0,\n",
       "  'contains(hot)': 0,\n",
       "  'contains(race)': 0,\n",
       "  'contains(leader)': 0,\n",
       "  'contains(jackson)': 0,\n",
       "  'contains(thin)': 0,\n",
       "  'contains(somewhere)': 0,\n",
       "  'contains(delivers)': 0,\n",
       "  'contains(detective)': 0,\n",
       "  'contains(famous)': 0,\n",
       "  'contains(asks)': 0,\n",
       "  'contains(provide)': 0,\n",
       "  'contains(member)': 0,\n",
       "  'contains(president)': 0,\n",
       "  'contains(puts)': 0,\n",
       "  'contains(appearance)': 0,\n",
       "  'contains(critics)': 0,\n",
       "  'contains(sent)': 0,\n",
       "  'contains(energy)': 0,\n",
       "  'contains(blue)': 0,\n",
       "  'contains(intelligence)': 0,\n",
       "  'contains(etc)': 0,\n",
       "  'contains(development)': 0,\n",
       "  'contains(okay)': 0,\n",
       "  'contains(proves)': 0,\n",
       "  'contains(vampire)': 0,\n",
       "  'contains(language)': 0,\n",
       "  'contains(spielberg)': 0,\n",
       "  'contains(caught)': 0,\n",
       "  'contains(seemingly)': 0},\n",
       " 'pos')"
      ]
     },
     "execution_count": 41,
     "metadata": {},
     "output_type": "execute_result"
    }
   ],
   "source": [
    "rev_markedup[0] #Посмотрим, как выглядит словарь для одного из текстов"
   ]
  },
  {
   "cell_type": "code",
   "execution_count": 48,
   "id": "e5369922",
   "metadata": {},
   "outputs": [
    {
     "name": "stdout",
     "output_type": "stream",
     "text": [
      "Accuracy обученной модели равна 0.775\n"
     ]
    }
   ],
   "source": [
    "#Делим размеченный датасет на обучающую и тренировочную выборку и тренируем модель\n",
    "train_ds, test_ds = rev_markedup[200:], rev_markedup[:200]\n",
    "classifier = nltk.NaiveBayesClassifier.train(train_ds)\n",
    "#Оцениваем точность модели\n",
    "print(f\"Accuracy обученной модели равна {nltk.classify.accuracy(classifier, test_ds)}\")"
   ]
  },
  {
   "cell_type": "markdown",
   "id": "46652d00",
   "metadata": {},
   "source": [
    "Теперь возьмем 5 рандомных отзывов из той половины набора отзывов, которую мы вообще не использовали, предскажем их настроение с помощью модели и сверим с фактическим настроением."
   ]
  },
  {
   "cell_type": "code",
   "execution_count": 51,
   "id": "ed5db209",
   "metadata": {},
   "outputs": [
    {
     "name": "stdout",
     "output_type": "stream",
     "text": [
      "Отзыв номер 1916 с айдишником pos/cv304_28706.txt: модель предсказала pos, на самом деле pos\n",
      "Отзыв номер 1898 с айдишником pos/cv674_10732.txt: модель предсказала pos, на самом деле pos\n",
      "Отзыв номер 1691 с айдишником pos/cv932_13401.txt: модель предсказала neg, на самом деле pos\n",
      "Отзыв номер 1793 с айдишником pos/cv673_24714.txt: модель предсказала pos, на самом деле pos\n",
      "Отзыв номер 1717 с айдишником neg/cv585_23576.txt: модель предсказала pos, на самом деле neg\n"
     ]
    }
   ],
   "source": [
    "rand_ids = random.sample(range(1000, 2000), 5)\n",
    "for idx in rand_ids:\n",
    "    binary_review=markuper(movie_reviews.words(shuff_fileids[idx]))\n",
    "    res=classifier.classify(binary_review)\n",
    "    print(f\"Отзыв номер {idx} с айдишником {movie_reviews.fileids()[idx]}: модель предсказала {res}, на самом деле {movie_reviews.fileids()[idx][:3]}\")"
   ]
  },
  {
   "cell_type": "markdown",
   "id": "f2bcc489",
   "metadata": {},
   "source": [
    "Итак, в данном докладе мы рассмотрели основной функционал библиотеки NLTK и разобрали базовые этапы обработки и анализа текста в NLP."
   ]
  },
  {
   "cell_type": "markdown",
   "id": "bf3ccfd4",
   "metadata": {},
   "source": [
    "### Самая долгожданная глава доклада... "
   ]
  },
  {
   "cell_type": "markdown",
   "id": "9423520f",
   "metadata": {},
   "source": [
    "![](https://poknok.art/uploads/posts/2022-10/1666944343_1-poknok-art-p-popugai-smotrit-v-zerkalo-foto-1.jpg)"
   ]
  },
  {
   "cell_type": "markdown",
   "id": "8c447c70",
   "metadata": {},
   "source": [
    "![](https://sun9-77.userapi.com/impg/xlBeKSAHKJS-OtKkvE07e6uV_F83fRUWjHHtJQ/QkLJPNiZfDk.jpg?size=692x807&quality=95&sign=b314f52720068ffab0368d7aedc25e24&c_uniq_tag=NpIcKL_TSB3lPQvW7fnpXKOH0gfr6je_FitxJU0Zs-c&type=album)"
   ]
  },
  {
   "cell_type": "markdown",
   "id": "6f9b0646",
   "metadata": {},
   "source": [
    "![](https://pressa.tv/uploads/posts/2019-07/thumbs/1562054886_pressa_tv_memy-s-popugayami-37.jpg)"
   ]
  },
  {
   "cell_type": "markdown",
   "id": "8205bc99",
   "metadata": {},
   "source": [
    "![](https://cs14.pikabu.ru/post_img/big/2021/09/29/10/1632932051177036610.jpg)"
   ]
  },
  {
   "cell_type": "markdown",
   "id": "3e29570e",
   "metadata": {},
   "source": [
    "![](https://pbs.twimg.com/media/EXcjM1dWkAI0vrg.jpg)"
   ]
  }
 ],
 "metadata": {
  "kernelspec": {
   "display_name": "Python 3 (ipykernel)",
   "language": "python",
   "name": "python3"
  },
  "language_info": {
   "codemirror_mode": {
    "name": "ipython",
    "version": 3
   },
   "file_extension": ".py",
   "mimetype": "text/x-python",
   "name": "python",
   "nbconvert_exporter": "python",
   "pygments_lexer": "ipython3",
   "version": "3.9.13"
  }
 },
 "nbformat": 4,
 "nbformat_minor": 5
}
