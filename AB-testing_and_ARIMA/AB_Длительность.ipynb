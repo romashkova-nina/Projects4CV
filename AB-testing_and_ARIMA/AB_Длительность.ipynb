{
 "cells": [
  {
   "cell_type": "code",
   "execution_count": 1,
   "metadata": {
    "id": "AvYLYJwQ6Ld3"
   },
   "outputs": [],
   "source": [
    "#Импортируем необходимые библиотеки\n",
    "\n",
    "import pandas as pd\n",
    "import math\n",
    "import numpy as np\n",
    "import scipy as sp\n",
    "import datetime\n",
    "\n",
    "import statsmodels as st\n",
    "import statsmodels.api as sm\n",
    "from statsmodels.stats import power"
   ]
  },
  {
   "cell_type": "code",
   "execution_count": 2,
   "metadata": {},
   "outputs": [],
   "source": [
    "#Задаем параметры\n",
    "\n",
    "#Массив со значениями MDE для каждой метрики\n",
    "MDEs=[4.05, 3.03]\n",
    "\n",
    "#Список названий метрик\n",
    "metrics_names=[\"CR_1%\", \"CR_2%\"]\n",
    "\n",
    "#Список булевых значений-ответов на вопрос \"Метрика-конверсия?\"\n",
    "metrics_bool=[1, 1]\n",
    "\n",
    "test_alpha=0.05\n",
    "test_power=0.8\n",
    "\n",
    "#Дата начала АВ-теста в формате \"YYYY-mm-dd\"\n",
    "start_date_test='2024-01-16'\n",
    "end_date_hist=(datetime.datetime.strptime(start_date_test, '%Y-%m-%d').date()+datetime.timedelta(days=-1)).strftime('%Y-%m-%d')\n",
    "start_date_hist=(datetime.datetime.strptime(start_date_test, '%Y-%m-%d').date()+datetime.timedelta(days=-31)).strftime('%Y-%m-%d')"
   ]
  },
  {
   "cell_type": "code",
   "execution_count": 3,
   "metadata": {},
   "outputs": [],
   "source": [
    "#Эти переменные понадобятся в дальнейшем, но в них мы ничего руками не вписываем\n",
    "\n",
    "#Дата конца А/В-теста, мы здесь как раз подсчитаем\n",
    "end_date_test=\"\"\n",
    "\n",
    "#Количество метрик\n",
    "metrics_num=len(MDEs)"
   ]
  },
  {
   "cell_type": "code",
   "execution_count": 4,
   "metadata": {},
   "outputs": [],
   "source": [
    "#Считываем данные из csv-фалйа\n",
    "df_raw_hist=pd.read_csv(\"df_raw_hist_length.csv\")\n",
    "df_raw_hist.set_index('event_date', inplace=True)"
   ]
  },
  {
   "cell_type": "code",
   "execution_count": 5,
   "metadata": {
    "id": "9TVxrYGdTxrb"
   },
   "outputs": [
    {
     "data": {
      "text/plain": [
       "[418.64516129032256, 418.64516129032256]"
      ]
     },
     "execution_count": 5,
     "metadata": {},
     "output_type": "execute_result"
    }
   ],
   "source": [
    "#Загрузили исторические данные по метрикам в датафрейм\n",
    "df_hist=df_raw_hist.copy()\n",
    "df_hist=df_hist.iloc[:, :metrics_num]\n",
    "\n",
    "#Загрузили исторические данные о среднем числе пользователей в день в датафрейм\n",
    "df_hist_freq=df_raw_hist.copy()\n",
    "df_hist_freq=df_hist_freq.iloc[:, metrics_num:]\n",
    "\n",
    "df_hist_freq=[df_hist_freq.iloc[:, i].mean() for i in range(metrics_num)]\n",
    "df_hist_freq"
   ]
  },
  {
   "cell_type": "code",
   "execution_count": 6,
   "metadata": {
    "colab": {
     "base_uri": "https://localhost:8080/"
    },
    "id": "b8knPQUCUrnJ",
    "outputId": "c01ab594-7721-4008-9848-0a1a14ff5f4e"
   },
   "outputs": [
    {
     "name": "stdout",
     "output_type": "stream",
     "text": [
      "Для проведени А/В-теста необходимо 2096 пользователей в одной группе. Среднее число пользователей в день составляет 419 человек, значит, для А/В-теста понадобится 11 дней\n",
      "Тогда данный А/В-тест будет идти с 2024-01-16 по 2024-01-26\n"
     ]
    }
   ],
   "source": [
    "#Создаем датафрейм для информации о требуемой длительности теста по каждой метрике\n",
    "metrics_info_df=pd.DataFrame()\n",
    "#Итоговая длительность А/В-теста\n",
    "days_res=-1\n",
    "#Количество человек в 1 выборке\n",
    "sample_size_res=-1\n",
    "#Среднее количество пользователей в день\n",
    "mean_freq_res=df_hist_freq[0]\n",
    "#Для каждой из метрик проводим алгоритм:\n",
    "for i in range(metrics_num):\n",
    "    #Считываем среднее количество пользователей по ней\n",
    "    mean_freq=df_hist_freq[i]\n",
    "    #Рассчитываем ее среднее на исторических данных\n",
    "    mean_metric=df_hist.iloc[:, i].values.mean()\n",
    "    #Рассчитываем ее стандартное отклонение на исторических данных\n",
    "    std_metric=df_hist.iloc[:, i].values.std()\n",
    "    #Если метрика-конверсия, обновляем стандартное отклонение\n",
    "    if metrics_bool[i]:\n",
    "        std_metric=max(std_metric, math.sqrt(mean_metric*(100-mean_metric)))\n",
    "    #Рассчитываем относительный MDE\n",
    "    MDE_rel=MDEs[i]/std_metric\n",
    "    #Рассчитываем величину одной выборки\n",
    "    sample_size_curr=power.tt_ind_solve_power(effect_size=MDE_rel, nobs1=None, alpha=test_alpha, \n",
    "        power=test_power, ratio=1.0, alternative='two-sided')\n",
    "    #Рассчитываем продолжительность теста для данной метрики\n",
    "    days_curr=math.ceil(sample_size_curr*2/mean_freq)\n",
    "    #Заносим данные по данной метрике в общий датафрейм\n",
    "    curr_metric_df=pd.DataFrame(data={\"Метрика\": [metrics_names[i]], \n",
    "                                      \"Необходимый размер одной выборки (чел.)\": [math.ceil(sample_size_curr)], \n",
    "                                      \"Продолжительность теста (в днях)\": [days_curr], \n",
    "                                      \"Средний трафик в день (чел.)\": [round(mean_freq)]})\n",
    "    metrics_info_df=pd.concat([metrics_info_df, curr_metric_df])\n",
    "    #Выбираем метрику с самой большой рассчитанной продолжительностью и сохраняем данные по ней\n",
    "    if days_curr>days_res:\n",
    "        days_res=days_curr\n",
    "        sample_size_res=sample_size_curr\n",
    "        mean_freq_res=mean_freq  \n",
    "        \n",
    "#Сортируем датафрейм по убыванию продолжительности теста в днях\n",
    "metrics_info_df.sort_values(by=\"Продолжительность теста (в днях)\", inplace=True, ascending=False)\n",
    "#Вычисляем дату конца проведения А/В-теста\n",
    "end_date_test=(datetime.datetime.strptime(start_date_test, '%Y-%m-%d').date()+datetime.timedelta(days=days_res-1)).strftime('%Y-%m-%d')\n",
    "#Выводим количесвто человек, необходимое для теста, итоговый средний трафик в день и итоговую продолжительность теста в днях\n",
    "print(f\"Для проведени А/В-теста необходимо {math.ceil(sample_size_res)} пользователей в одной группе. Среднее число пользователей в день составляет {round(mean_freq_res)} человек, значит, для А/В-теста понадобится {days_res} дней\")\n",
    "print(f\"Тогда данный А/В-тест будет идти с {start_date_test} по {end_date_test}\")        "
   ]
  },
  {
   "cell_type": "code",
   "execution_count": 7,
   "metadata": {
    "colab": {
     "base_uri": "https://localhost:8080/",
     "height": 81
    },
    "id": "zL75IUYmlGt5",
    "outputId": "50b187fe-af30-4733-e493-d4005c53a0b7"
   },
   "outputs": [
    {
     "data": {
      "text/html": [
       "<div>\n",
       "<style scoped>\n",
       "    .dataframe tbody tr th:only-of-type {\n",
       "        vertical-align: middle;\n",
       "    }\n",
       "\n",
       "    .dataframe tbody tr th {\n",
       "        vertical-align: top;\n",
       "    }\n",
       "\n",
       "    .dataframe thead th {\n",
       "        text-align: right;\n",
       "    }\n",
       "</style>\n",
       "<table border=\"1\" class=\"dataframe\">\n",
       "  <thead>\n",
       "    <tr style=\"text-align: right;\">\n",
       "      <th></th>\n",
       "      <th>Метрика</th>\n",
       "      <th>Необходимый размер одной выборки (чел.)</th>\n",
       "      <th>Продолжительность теста (в днях)</th>\n",
       "      <th>Средний трафик в день (чел.)</th>\n",
       "    </tr>\n",
       "  </thead>\n",
       "  <tbody>\n",
       "    <tr>\n",
       "      <th>0</th>\n",
       "      <td>CR_1%</td>\n",
       "      <td>2096</td>\n",
       "      <td>11</td>\n",
       "      <td>419</td>\n",
       "    </tr>\n",
       "    <tr>\n",
       "      <th>0</th>\n",
       "      <td>CR_2%</td>\n",
       "      <td>1833</td>\n",
       "      <td>9</td>\n",
       "      <td>419</td>\n",
       "    </tr>\n",
       "  </tbody>\n",
       "</table>\n",
       "</div>"
      ],
      "text/plain": [
       "  Метрика  Необходимый размер одной выборки (чел.)  \\\n",
       "0   CR_1%                                     2096   \n",
       "0   CR_2%                                     1833   \n",
       "\n",
       "   Продолжительность теста (в днях)  Средний трафик в день (чел.)  \n",
       "0                                11                           419  \n",
       "0                                 9                           419  "
      ]
     },
     "execution_count": 7,
     "metadata": {},
     "output_type": "execute_result"
    }
   ],
   "source": [
    "#Распечатали датафрейм с информацией о длительности теста для каждой метрики\n",
    "metrics_info_df"
   ]
  },
  {
   "cell_type": "code",
   "execution_count": 8,
   "metadata": {},
   "outputs": [
    {
     "data": {
      "text/plain": [
       "[11, 9]"
      ]
     },
     "execution_count": 8,
     "metadata": {},
     "output_type": "execute_result"
    }
   ],
   "source": [
    "#Формируем список продолжительности АВ-теста в днях для каждой метрики и КОПИРУЕМ ВЫВОД жанной ячейки в ноутбук \"Подсчеты и итоги\"\n",
    "lengths_list=list(metrics_info_df[\"Продолжительность теста (в днях)\"].values)\n",
    "lengths_list"
   ]
  },
  {
   "cell_type": "code",
   "execution_count": null,
   "metadata": {},
   "outputs": [],
   "source": []
  }
 ],
 "metadata": {
  "colab": {
   "provenance": []
  },
  "kernelspec": {
   "display_name": "Python 3 (ipykernel)",
   "language": "python",
   "name": "python3"
  },
  "language_info": {
   "codemirror_mode": {
    "name": "ipython",
    "version": 3
   },
   "file_extension": ".py",
   "mimetype": "text/x-python",
   "name": "python",
   "nbconvert_exporter": "python",
   "pygments_lexer": "ipython3",
   "version": "3.9.13"
  }
 },
 "nbformat": 4,
 "nbformat_minor": 1
}
